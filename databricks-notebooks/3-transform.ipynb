{
 "cells": [
  {
   "cell_type": "markdown",
   "metadata": {
    "application/vnd.databricks.v1+cell": {
     "cellMetadata": {
      "byteLimit": 2048000,
      "rowLimit": 10000
     },
     "inputWidgets": {},
     "nuid": "d15ba20d-3c83-4ae3-a25b-6ec1e09232d0",
     "showTitle": false,
     "title": ""
    }
   },
   "source": [
    "## Azure Databricks: Transform the data using Spark"
   ]
  },
  {
   "cell_type": "markdown",
   "metadata": {
    "application/vnd.databricks.v1+cell": {
     "cellMetadata": {
      "byteLimit": 2048000,
      "rowLimit": 10000
     },
     "inputWidgets": {},
     "nuid": "23d95349-add3-4989-80c9-12369ad05218",
     "showTitle": false,
     "title": ""
    }
   },
   "source": [
    "By Selman Karaosmanoglu"
   ]
  },
  {
   "cell_type": "code",
   "execution_count": 0,
   "metadata": {
    "application/vnd.databricks.v1+cell": {
     "cellMetadata": {
      "byteLimit": 2048000,
      "rowLimit": 10000
     },
     "inputWidgets": {},
     "nuid": "b4d69020-9bc0-4402-b5d0-ca0dfa15af30",
     "showTitle": false,
     "title": ""
    }
   },
   "outputs": [],
   "source": [
    "from pyspark.sql import DataFrame"
   ]
  },
  {
   "cell_type": "code",
   "execution_count": 0,
   "metadata": {
    "application/vnd.databricks.v1+cell": {
     "cellMetadata": {
      "byteLimit": 2048000,
      "rowLimit": 10000
     },
     "inputWidgets": {},
     "nuid": "47dcc543-6d2b-4171-bfa9-1cba50ac7431",
     "showTitle": false,
     "title": ""
    }
   },
   "outputs": [],
   "source": [
    "# User-defined functions\n",
    "def info(df:DataFrame):\n",
    "    display(df.pandas_api().info())\n",
    "    return df.pandas_api().head(2)"
   ]
  },
  {
   "cell_type": "markdown",
   "metadata": {
    "application/vnd.databricks.v1+cell": {
     "cellMetadata": {
      "byteLimit": 2048000,
      "rowLimit": 10000
     },
     "inputWidgets": {},
     "nuid": "bb4fba4b-c030-49ae-8e75-0a1a440b6714",
     "showTitle": false,
     "title": ""
    }
   },
   "source": [
    "### Payment Fact"
   ]
  },
  {
   "cell_type": "code",
   "execution_count": 0,
   "metadata": {
    "application/vnd.databricks.v1+cell": {
     "cellMetadata": {
      "byteLimit": 2048000,
      "rowLimit": 10000
     },
     "inputWidgets": {},
     "nuid": "a3d2e321-927c-4ee5-8f85-d1732076a458",
     "showTitle": false,
     "title": ""
    }
   },
   "outputs": [],
   "source": [
    "# Read\n",
    "df_payment_bronze = spark.table('payment_bronze')"
   ]
  },
  {
   "cell_type": "code",
   "execution_count": 0,
   "metadata": {
    "application/vnd.databricks.v1+cell": {
     "cellMetadata": {
      "byteLimit": 2048000,
      "rowLimit": 10000
     },
     "inputWidgets": {},
     "nuid": "777ddbc1-5889-45d6-bd61-0b869ac02f95",
     "showTitle": false,
     "title": ""
    }
   },
   "outputs": [
    {
     "output_type": "stream",
     "name": "stdout",
     "output_type": "stream",
     "text": [
      "<class 'pyspark.pandas.frame.DataFrame'>\nInt64Index: 1946607 entries, 0 to 1946606\nData columns (total 4 columns):\n #   Column      Non-Null Count    Dtype  \n---  ------      --------------    -----  \n 0   payment_id  1946607 non-null  int32  \n 1   date        1946607 non-null  object \n 2   amount      1946607 non-null  float64\n 3   rider_id    1946607 non-null  int32  \ndtypes: float64(1), int32(2), object(1)"
     ]
    },
    {
     "output_type": "execute_result",
     "data": {
      "text/html": [
       "<div>\n",
       "<style scoped>\n",
       "    .dataframe tbody tr th:only-of-type {\n",
       "        vertical-align: middle;\n",
       "    }\n",
       "\n",
       "    .dataframe tbody tr th {\n",
       "        vertical-align: top;\n",
       "    }\n",
       "\n",
       "    .dataframe thead th {\n",
       "        text-align: right;\n",
       "    }\n",
       "</style>\n",
       "<table border=\"1\" class=\"dataframe\">\n",
       "  <thead>\n",
       "    <tr style=\"text-align: right;\">\n",
       "      <th></th>\n",
       "      <th>payment_id</th>\n",
       "      <th>date</th>\n",
       "      <th>amount</th>\n",
       "      <th>rider_id</th>\n",
       "    </tr>\n",
       "  </thead>\n",
       "  <tbody>\n",
       "    <tr>\n",
       "      <th>0</th>\n",
       "      <td>1</td>\n",
       "      <td>2019-05-01</td>\n",
       "      <td>9.0</td>\n",
       "      <td>1000</td>\n",
       "    </tr>\n",
       "    <tr>\n",
       "      <th>1</th>\n",
       "      <td>2</td>\n",
       "      <td>2019-06-01</td>\n",
       "      <td>9.0</td>\n",
       "      <td>1000</td>\n",
       "    </tr>\n",
       "  </tbody>\n",
       "</table>\n",
       "</div>"
      ],
      "text/plain": [
       "   payment_id        date  amount  rider_id\n",
       "0           1  2019-05-01     9.0      1000\n",
       "1           2  2019-06-01     9.0      1000"
      ]
     },
     "execution_count": 275,
     "metadata": {},
     "output_type": "execute_result"
    }
   ],
   "source": [
    "info(df_payment_bronze)"
   ]
  },
  {
   "cell_type": "code",
   "execution_count": 0,
   "metadata": {
    "application/vnd.databricks.v1+cell": {
     "cellMetadata": {
      "byteLimit": 2048000,
      "rowLimit": 10000
     },
     "inputWidgets": {},
     "nuid": "cec1f6a1-9652-45f2-b868-240023d7c78b",
     "showTitle": false,
     "title": ""
    }
   },
   "outputs": [],
   "source": [
    "# Rename column\n",
    "df_payment_bronze = df_payment_bronze.withColumnRenamed(\"date\", \"payment_date\")"
   ]
  },
  {
   "cell_type": "code",
   "execution_count": 0,
   "metadata": {
    "application/vnd.databricks.v1+cell": {
     "cellMetadata": {
      "byteLimit": 2048000,
      "rowLimit": 10000
     },
     "inputWidgets": {},
     "nuid": "cd83af36-9ef6-414b-997c-3cae5f12fbfb",
     "showTitle": false,
     "title": ""
    }
   },
   "outputs": [
    {
     "output_type": "stream",
     "name": "stdout",
     "output_type": "stream",
     "text": [
      "<class 'pyspark.pandas.frame.DataFrame'>\nInt64Index: 1946607 entries, 0 to 1946606\nData columns (total 4 columns):\n #   Column        Non-Null Count    Dtype  \n---  ------        --------------    -----  \n 0   payment_id    1946607 non-null  int32  \n 1   payment_date  1946607 non-null  object \n 2   amount        1946607 non-null  float64\n 3   rider_id      1946607 non-null  int32  \ndtypes: float64(1), int32(2), object(1)"
     ]
    },
    {
     "output_type": "execute_result",
     "data": {
      "text/html": [
       "<div>\n",
       "<style scoped>\n",
       "    .dataframe tbody tr th:only-of-type {\n",
       "        vertical-align: middle;\n",
       "    }\n",
       "\n",
       "    .dataframe tbody tr th {\n",
       "        vertical-align: top;\n",
       "    }\n",
       "\n",
       "    .dataframe thead th {\n",
       "        text-align: right;\n",
       "    }\n",
       "</style>\n",
       "<table border=\"1\" class=\"dataframe\">\n",
       "  <thead>\n",
       "    <tr style=\"text-align: right;\">\n",
       "      <th></th>\n",
       "      <th>payment_id</th>\n",
       "      <th>payment_date</th>\n",
       "      <th>amount</th>\n",
       "      <th>rider_id</th>\n",
       "    </tr>\n",
       "  </thead>\n",
       "  <tbody>\n",
       "    <tr>\n",
       "      <th>0</th>\n",
       "      <td>1</td>\n",
       "      <td>2019-05-01</td>\n",
       "      <td>9.0</td>\n",
       "      <td>1000</td>\n",
       "    </tr>\n",
       "    <tr>\n",
       "      <th>1</th>\n",
       "      <td>2</td>\n",
       "      <td>2019-06-01</td>\n",
       "      <td>9.0</td>\n",
       "      <td>1000</td>\n",
       "    </tr>\n",
       "  </tbody>\n",
       "</table>\n",
       "</div>"
      ],
      "text/plain": [
       "   payment_id payment_date  amount  rider_id\n",
       "0           1   2019-05-01     9.0      1000\n",
       "1           2   2019-06-01     9.0      1000"
      ]
     },
     "execution_count": 277,
     "metadata": {},
     "output_type": "execute_result"
    }
   ],
   "source": [
    "info(df_payment_bronze)"
   ]
  },
  {
   "cell_type": "code",
   "execution_count": 0,
   "metadata": {
    "application/vnd.databricks.v1+cell": {
     "cellMetadata": {
      "byteLimit": 2048000,
      "rowLimit": 10000
     },
     "inputWidgets": {},
     "nuid": "5fb31e28-26f9-408a-a355-2422831c0d3a",
     "showTitle": false,
     "title": ""
    }
   },
   "outputs": [],
   "source": [
    "# Create a Spark table with Delta format and overwrite mode\n",
    "df_payment_bronze.write.format(\"delta\").mode(\"overwrite\").saveAsTable(\"fact_payment\")"
   ]
  },
  {
   "cell_type": "code",
   "execution_count": 0,
   "metadata": {
    "application/vnd.databricks.v1+cell": {
     "cellMetadata": {
      "byteLimit": 2048000,
      "rowLimit": 10000
     },
     "inputWidgets": {},
     "nuid": "579387db-30cb-4519-856a-2bde1f7ca122",
     "showTitle": false,
     "title": ""
    }
   },
   "outputs": [],
   "source": [
    "df_payment_gold = spark.table(\"fact_payment\")"
   ]
  },
  {
   "cell_type": "code",
   "execution_count": 0,
   "metadata": {
    "application/vnd.databricks.v1+cell": {
     "cellMetadata": {
      "byteLimit": 2048000,
      "rowLimit": 10000
     },
     "inputWidgets": {},
     "nuid": "e9d0d011-1514-4b22-b3b5-f99bdff72964",
     "showTitle": false,
     "title": ""
    }
   },
   "outputs": [
    {
     "output_type": "stream",
     "name": "stdout",
     "output_type": "stream",
     "text": [
      "<class 'pyspark.pandas.frame.DataFrame'>\nInt64Index: 1946607 entries, 0 to 1946606\nData columns (total 4 columns):\n #   Column        Non-Null Count    Dtype  \n---  ------        --------------    -----  \n 0   payment_id    1946607 non-null  int32  \n 1   payment_date  1946607 non-null  object \n 2   amount        1946607 non-null  float64\n 3   rider_id      1946607 non-null  int32  \ndtypes: float64(1), int32(2), object(1)"
     ]
    },
    {
     "output_type": "execute_result",
     "data": {
      "text/html": [
       "<div>\n",
       "<style scoped>\n",
       "    .dataframe tbody tr th:only-of-type {\n",
       "        vertical-align: middle;\n",
       "    }\n",
       "\n",
       "    .dataframe tbody tr th {\n",
       "        vertical-align: top;\n",
       "    }\n",
       "\n",
       "    .dataframe thead th {\n",
       "        text-align: right;\n",
       "    }\n",
       "</style>\n",
       "<table border=\"1\" class=\"dataframe\">\n",
       "  <thead>\n",
       "    <tr style=\"text-align: right;\">\n",
       "      <th></th>\n",
       "      <th>payment_id</th>\n",
       "      <th>payment_date</th>\n",
       "      <th>amount</th>\n",
       "      <th>rider_id</th>\n",
       "    </tr>\n",
       "  </thead>\n",
       "  <tbody>\n",
       "    <tr>\n",
       "      <th>0</th>\n",
       "      <td>1</td>\n",
       "      <td>2019-05-01</td>\n",
       "      <td>9.0</td>\n",
       "      <td>1000</td>\n",
       "    </tr>\n",
       "    <tr>\n",
       "      <th>1</th>\n",
       "      <td>2</td>\n",
       "      <td>2019-06-01</td>\n",
       "      <td>9.0</td>\n",
       "      <td>1000</td>\n",
       "    </tr>\n",
       "  </tbody>\n",
       "</table>\n",
       "</div>"
      ],
      "text/plain": [
       "   payment_id payment_date  amount  rider_id\n",
       "0           1   2019-05-01     9.0      1000\n",
       "1           2   2019-06-01     9.0      1000"
      ]
     },
     "execution_count": 280,
     "metadata": {},
     "output_type": "execute_result"
    }
   ],
   "source": [
    "info(df_payment_gold)"
   ]
  },
  {
   "cell_type": "markdown",
   "metadata": {
    "application/vnd.databricks.v1+cell": {
     "cellMetadata": {
      "byteLimit": 2048000,
      "rowLimit": 10000
     },
     "inputWidgets": {},
     "nuid": "4586caad-d795-4005-9f31-a0d97fb2c12b",
     "showTitle": false,
     "title": ""
    }
   },
   "source": [
    "### Rider Dimension"
   ]
  },
  {
   "cell_type": "code",
   "execution_count": 0,
   "metadata": {
    "application/vnd.databricks.v1+cell": {
     "cellMetadata": {
      "byteLimit": 2048000,
      "rowLimit": 10000
     },
     "inputWidgets": {},
     "nuid": "b8dba85f-d008-4c79-a629-d74e7e100e88",
     "showTitle": false,
     "title": ""
    }
   },
   "outputs": [],
   "source": [
    "# Read\n",
    "df_rider_bronze = spark.table('rider_bronze')"
   ]
  },
  {
   "cell_type": "code",
   "execution_count": 0,
   "metadata": {
    "application/vnd.databricks.v1+cell": {
     "cellMetadata": {
      "byteLimit": 2048000,
      "rowLimit": 10000
     },
     "inputWidgets": {},
     "nuid": "56f794c1-4af7-4fb0-8154-a340b5bbbf99",
     "showTitle": false,
     "title": ""
    }
   },
   "outputs": [
    {
     "output_type": "stream",
     "name": "stdout",
     "output_type": "stream",
     "text": [
      "<class 'pyspark.pandas.frame.DataFrame'>\nInt64Index: 75000 entries, 0 to 74999\nData columns (total 8 columns):\n #   Column              Non-Null Count  Dtype \n---  ------              --------------  ----- \n 0   rider_id            75000 non-null  int32 \n 1   first_name          75000 non-null  object\n 2   last_name           75000 non-null  object\n 3   address             75000 non-null  object\n 4   birthdate           75000 non-null  object\n 5   account_start_date  75000 non-null  object\n 6   account_end_date    14954 non-null  object\n 7   is_member           75000 non-null  bool  \ndtypes: bool(1), int32(1), object(6)"
     ]
    },
    {
     "output_type": "execute_result",
     "data": {
      "text/html": [
       "<div>\n",
       "<style scoped>\n",
       "    .dataframe tbody tr th:only-of-type {\n",
       "        vertical-align: middle;\n",
       "    }\n",
       "\n",
       "    .dataframe tbody tr th {\n",
       "        vertical-align: top;\n",
       "    }\n",
       "\n",
       "    .dataframe thead th {\n",
       "        text-align: right;\n",
       "    }\n",
       "</style>\n",
       "<table border=\"1\" class=\"dataframe\">\n",
       "  <thead>\n",
       "    <tr style=\"text-align: right;\">\n",
       "      <th></th>\n",
       "      <th>rider_id</th>\n",
       "      <th>first_name</th>\n",
       "      <th>last_name</th>\n",
       "      <th>address</th>\n",
       "      <th>birthdate</th>\n",
       "      <th>account_start_date</th>\n",
       "      <th>account_end_date</th>\n",
       "      <th>is_member</th>\n",
       "    </tr>\n",
       "  </thead>\n",
       "  <tbody>\n",
       "    <tr>\n",
       "      <th>0</th>\n",
       "      <td>1000</td>\n",
       "      <td>Diana</td>\n",
       "      <td>Clark</td>\n",
       "      <td>1200 Alyssa Squares</td>\n",
       "      <td>1989-02-13</td>\n",
       "      <td>2019-04-23</td>\n",
       "      <td>None</td>\n",
       "      <td>True</td>\n",
       "    </tr>\n",
       "    <tr>\n",
       "      <th>1</th>\n",
       "      <td>1001</td>\n",
       "      <td>Jennifer</td>\n",
       "      <td>Smith</td>\n",
       "      <td>397 Diana Ferry</td>\n",
       "      <td>1976-08-10</td>\n",
       "      <td>2019-11-01</td>\n",
       "      <td>2020-09-01</td>\n",
       "      <td>True</td>\n",
       "    </tr>\n",
       "  </tbody>\n",
       "</table>\n",
       "</div>"
      ],
      "text/plain": [
       "   rider_id first_name last_name              address   birthdate account_start_date account_end_date  is_member\n",
       "0      1000      Diana     Clark  1200 Alyssa Squares  1989-02-13         2019-04-23             None       True\n",
       "1      1001   Jennifer     Smith      397 Diana Ferry  1976-08-10         2019-11-01       2020-09-01       True"
      ]
     },
     "execution_count": 282,
     "metadata": {},
     "output_type": "execute_result"
    }
   ],
   "source": [
    "info(df_rider_bronze)"
   ]
  },
  {
   "cell_type": "code",
   "execution_count": 0,
   "metadata": {
    "application/vnd.databricks.v1+cell": {
     "cellMetadata": {
      "byteLimit": 2048000,
      "rowLimit": 10000
     },
     "inputWidgets": {},
     "nuid": "f552e51a-d9b3-4fdb-aefb-247a2e2d8f3a",
     "showTitle": false,
     "title": ""
    }
   },
   "outputs": [],
   "source": [
    "df_rider_gold = df_rider_bronze.withColumnRenamed(\"birthdate\", \"birthday\")"
   ]
  },
  {
   "cell_type": "code",
   "execution_count": 0,
   "metadata": {
    "application/vnd.databricks.v1+cell": {
     "cellMetadata": {
      "byteLimit": 2048000,
      "rowLimit": 10000
     },
     "inputWidgets": {},
     "nuid": "f0ba8cd7-f1cc-46fb-8c75-54bfdfb57b6a",
     "showTitle": false,
     "title": ""
    }
   },
   "outputs": [],
   "source": [
    "# Create a Spark table with Delta format and overwrite mode\n",
    "df_rider_gold.write.format(\"delta\").mode(\"overwrite\").saveAsTable(\"dim_rider\")"
   ]
  },
  {
   "cell_type": "code",
   "execution_count": 0,
   "metadata": {
    "application/vnd.databricks.v1+cell": {
     "cellMetadata": {
      "byteLimit": 2048000,
      "rowLimit": 10000
     },
     "inputWidgets": {},
     "nuid": "0ae74370-d66f-4931-a3e5-3cb3d960992c",
     "showTitle": false,
     "title": ""
    }
   },
   "outputs": [
    {
     "output_type": "stream",
     "name": "stdout",
     "output_type": "stream",
     "text": [
      "<class 'pyspark.pandas.frame.DataFrame'>\nInt64Index: 75000 entries, 0 to 74999\nData columns (total 8 columns):\n #   Column              Non-Null Count  Dtype \n---  ------              --------------  ----- \n 0   rider_id            75000 non-null  int32 \n 1   first_name          75000 non-null  object\n 2   last_name           75000 non-null  object\n 3   address             75000 non-null  object\n 4   birthday            75000 non-null  object\n 5   account_start_date  75000 non-null  object\n 6   account_end_date    14954 non-null  object\n 7   is_member           75000 non-null  bool  \ndtypes: bool(1), int32(1), object(6)"
     ]
    },
    {
     "output_type": "execute_result",
     "data": {
      "text/html": [
       "<div>\n",
       "<style scoped>\n",
       "    .dataframe tbody tr th:only-of-type {\n",
       "        vertical-align: middle;\n",
       "    }\n",
       "\n",
       "    .dataframe tbody tr th {\n",
       "        vertical-align: top;\n",
       "    }\n",
       "\n",
       "    .dataframe thead th {\n",
       "        text-align: right;\n",
       "    }\n",
       "</style>\n",
       "<table border=\"1\" class=\"dataframe\">\n",
       "  <thead>\n",
       "    <tr style=\"text-align: right;\">\n",
       "      <th></th>\n",
       "      <th>rider_id</th>\n",
       "      <th>first_name</th>\n",
       "      <th>last_name</th>\n",
       "      <th>address</th>\n",
       "      <th>birthday</th>\n",
       "      <th>account_start_date</th>\n",
       "      <th>account_end_date</th>\n",
       "      <th>is_member</th>\n",
       "    </tr>\n",
       "  </thead>\n",
       "  <tbody>\n",
       "    <tr>\n",
       "      <th>0</th>\n",
       "      <td>1000</td>\n",
       "      <td>Diana</td>\n",
       "      <td>Clark</td>\n",
       "      <td>1200 Alyssa Squares</td>\n",
       "      <td>1989-02-13</td>\n",
       "      <td>2019-04-23</td>\n",
       "      <td>None</td>\n",
       "      <td>True</td>\n",
       "    </tr>\n",
       "    <tr>\n",
       "      <th>1</th>\n",
       "      <td>1001</td>\n",
       "      <td>Jennifer</td>\n",
       "      <td>Smith</td>\n",
       "      <td>397 Diana Ferry</td>\n",
       "      <td>1976-08-10</td>\n",
       "      <td>2019-11-01</td>\n",
       "      <td>2020-09-01</td>\n",
       "      <td>True</td>\n",
       "    </tr>\n",
       "  </tbody>\n",
       "</table>\n",
       "</div>"
      ],
      "text/plain": [
       "   rider_id first_name last_name              address    birthday account_start_date account_end_date  is_member\n",
       "0      1000      Diana     Clark  1200 Alyssa Squares  1989-02-13         2019-04-23             None       True\n",
       "1      1001   Jennifer     Smith      397 Diana Ferry  1976-08-10         2019-11-01       2020-09-01       True"
      ]
     },
     "execution_count": 285,
     "metadata": {},
     "output_type": "execute_result"
    }
   ],
   "source": [
    "info(spark.table(\"dim_rider\"))"
   ]
  },
  {
   "cell_type": "markdown",
   "metadata": {
    "application/vnd.databricks.v1+cell": {
     "cellMetadata": {
      "byteLimit": 2048000,
      "rowLimit": 10000
     },
     "inputWidgets": {},
     "nuid": "39d82a86-6867-4fef-8583-2d09e8be671c",
     "showTitle": false,
     "title": ""
    }
   },
   "source": [
    "### Station Dimension"
   ]
  },
  {
   "cell_type": "code",
   "execution_count": 0,
   "metadata": {
    "application/vnd.databricks.v1+cell": {
     "cellMetadata": {
      "byteLimit": 2048000,
      "rowLimit": 10000
     },
     "inputWidgets": {},
     "nuid": "b5de9089-fd0d-4d62-b399-2c0bf06dc3d8",
     "showTitle": false,
     "title": ""
    }
   },
   "outputs": [],
   "source": [
    "df_station_bronze = spark.table('station_bronze')"
   ]
  },
  {
   "cell_type": "code",
   "execution_count": 0,
   "metadata": {
    "application/vnd.databricks.v1+cell": {
     "cellMetadata": {
      "byteLimit": 2048000,
      "rowLimit": 10000
     },
     "inputWidgets": {},
     "nuid": "39c9f4ad-7941-4551-8898-c5bd3900ec1b",
     "showTitle": false,
     "title": ""
    }
   },
   "outputs": [],
   "source": [
    "# Create dim_station\n",
    "df_station_bronze.write.format(\"delta\").mode(\"overwrite\").saveAsTable(\"dim_station\")"
   ]
  },
  {
   "cell_type": "code",
   "execution_count": 0,
   "metadata": {
    "application/vnd.databricks.v1+cell": {
     "cellMetadata": {
      "byteLimit": 2048000,
      "rowLimit": 10000
     },
     "inputWidgets": {},
     "nuid": "b00ad585-6ef3-46c1-9abf-eb87e9bec51e",
     "showTitle": false,
     "title": ""
    }
   },
   "outputs": [
    {
     "output_type": "stream",
     "name": "stdout",
     "output_type": "stream",
     "text": [
      "<class 'pyspark.pandas.frame.DataFrame'>\nInt64Index: 838 entries, 0 to 837\nData columns (total 4 columns):\n #   Column      Non-Null Count  Dtype  \n---  ------      --------------  -----  \n 0   station_id  838 non-null    object \n 1   name        838 non-null    object \n 2   latitude    838 non-null    float64\n 3   longitude   838 non-null    float64\ndtypes: float64(2), object(2)"
     ]
    },
    {
     "output_type": "execute_result",
     "data": {
      "text/html": [
       "<div>\n",
       "<style scoped>\n",
       "    .dataframe tbody tr th:only-of-type {\n",
       "        vertical-align: middle;\n",
       "    }\n",
       "\n",
       "    .dataframe tbody tr th {\n",
       "        vertical-align: top;\n",
       "    }\n",
       "\n",
       "    .dataframe thead th {\n",
       "        text-align: right;\n",
       "    }\n",
       "</style>\n",
       "<table border=\"1\" class=\"dataframe\">\n",
       "  <thead>\n",
       "    <tr style=\"text-align: right;\">\n",
       "      <th></th>\n",
       "      <th>station_id</th>\n",
       "      <th>name</th>\n",
       "      <th>latitude</th>\n",
       "      <th>longitude</th>\n",
       "    </tr>\n",
       "  </thead>\n",
       "  <tbody>\n",
       "    <tr>\n",
       "      <th>0</th>\n",
       "      <td>525</td>\n",
       "      <td>Glenwood Ave &amp; Touhy Ave</td>\n",
       "      <td>42.012701</td>\n",
       "      <td>-87.666058</td>\n",
       "    </tr>\n",
       "    <tr>\n",
       "      <th>1</th>\n",
       "      <td>KA1503000012</td>\n",
       "      <td>Clark St &amp; Lake St</td>\n",
       "      <td>41.885795</td>\n",
       "      <td>-87.631101</td>\n",
       "    </tr>\n",
       "  </tbody>\n",
       "</table>\n",
       "</div>"
      ],
      "text/plain": [
       "     station_id                      name   latitude  longitude\n",
       "0           525  Glenwood Ave & Touhy Ave  42.012701 -87.666058\n",
       "1  KA1503000012        Clark St & Lake St  41.885795 -87.631101"
      ]
     },
     "execution_count": 288,
     "metadata": {},
     "output_type": "execute_result"
    }
   ],
   "source": [
    "info(spark.table(\"dim_station\"))"
   ]
  },
  {
   "cell_type": "markdown",
   "metadata": {
    "application/vnd.databricks.v1+cell": {
     "cellMetadata": {
      "byteLimit": 2048000,
      "rowLimit": 10000
     },
     "inputWidgets": {},
     "nuid": "aa0a6cdd-6bf2-4a71-9d6a-db02ed437d3c",
     "showTitle": false,
     "title": ""
    }
   },
   "source": [
    "### Trip Fact"
   ]
  },
  {
   "cell_type": "code",
   "execution_count": 0,
   "metadata": {
    "application/vnd.databricks.v1+cell": {
     "cellMetadata": {
      "byteLimit": 2048000,
      "rowLimit": 10000
     },
     "inputWidgets": {},
     "nuid": "ca693699-0660-4e10-9b68-764fe375c099",
     "showTitle": false,
     "title": ""
    }
   },
   "outputs": [],
   "source": [
    "# Read\n",
    "df_trip_bronze = spark.table('trip_bronze')"
   ]
  },
  {
   "cell_type": "code",
   "execution_count": 0,
   "metadata": {
    "application/vnd.databricks.v1+cell": {
     "cellMetadata": {
      "byteLimit": 2048000,
      "rowLimit": 10000
     },
     "inputWidgets": {},
     "nuid": "da36b8c6-ef60-4606-85f0-ce6d9eeef0e4",
     "showTitle": false,
     "title": ""
    }
   },
   "outputs": [
    {
     "output_type": "stream",
     "name": "stdout",
     "output_type": "stream",
     "text": [
      "<class 'pyspark.pandas.frame.DataFrame'>\nInt64Index: 4584921 entries, 0 to 4584920\nData columns (total 7 columns):\n #   Column            Non-Null Count    Dtype         \n---  ------            --------------    -----         \n 0   trip_id           4584921 non-null  object        \n 1   rideable_type     4584921 non-null  object        \n 2   started_at        4584921 non-null  datetime64[ns]\n 3   ended_at          4584921 non-null  datetime64[ns]\n 4   start_station_id  4584921 non-null  object        \n 5   end_station_id    4584921 non-null  object        \n 6   rider_id          4584921 non-null  int32         \ndtypes: datetime64[ns](2), int32(1), object(4)"
     ]
    },
    {
     "output_type": "execute_result",
     "data": {
      "text/html": [
       "<div>\n",
       "<style scoped>\n",
       "    .dataframe tbody tr th:only-of-type {\n",
       "        vertical-align: middle;\n",
       "    }\n",
       "\n",
       "    .dataframe tbody tr th {\n",
       "        vertical-align: top;\n",
       "    }\n",
       "\n",
       "    .dataframe thead th {\n",
       "        text-align: right;\n",
       "    }\n",
       "</style>\n",
       "<table border=\"1\" class=\"dataframe\">\n",
       "  <thead>\n",
       "    <tr style=\"text-align: right;\">\n",
       "      <th></th>\n",
       "      <th>trip_id</th>\n",
       "      <th>rideable_type</th>\n",
       "      <th>started_at</th>\n",
       "      <th>ended_at</th>\n",
       "      <th>start_station_id</th>\n",
       "      <th>end_station_id</th>\n",
       "      <th>rider_id</th>\n",
       "    </tr>\n",
       "  </thead>\n",
       "  <tbody>\n",
       "    <tr>\n",
       "      <th>0</th>\n",
       "      <td>222BB8E5059252D7</td>\n",
       "      <td>classic_bike</td>\n",
       "      <td>2021-06-13 09:48:47</td>\n",
       "      <td>2021-06-13 10:07:23</td>\n",
       "      <td>KA1503000064</td>\n",
       "      <td>13021</td>\n",
       "      <td>34062</td>\n",
       "    </tr>\n",
       "    <tr>\n",
       "      <th>1</th>\n",
       "      <td>1826E16CB5486018</td>\n",
       "      <td>classic_bike</td>\n",
       "      <td>2021-06-21 22:59:13</td>\n",
       "      <td>2021-06-21 23:04:29</td>\n",
       "      <td>TA1306000010</td>\n",
       "      <td>13021</td>\n",
       "      <td>5342</td>\n",
       "    </tr>\n",
       "  </tbody>\n",
       "</table>\n",
       "</div>"
      ],
      "text/plain": [
       "            trip_id rideable_type          started_at            ended_at start_station_id end_station_id  rider_id\n",
       "0  222BB8E5059252D7  classic_bike 2021-06-13 09:48:47 2021-06-13 10:07:23     KA1503000064          13021     34062\n",
       "1  1826E16CB5486018  classic_bike 2021-06-21 22:59:13 2021-06-21 23:04:29     TA1306000010          13021      5342"
      ]
     },
     "execution_count": 290,
     "metadata": {},
     "output_type": "execute_result"
    }
   ],
   "source": [
    "info(df_trip_bronze)"
   ]
  },
  {
   "cell_type": "code",
   "execution_count": 0,
   "metadata": {
    "application/vnd.databricks.v1+cell": {
     "cellMetadata": {
      "byteLimit": 2048000,
      "rowLimit": 10000
     },
     "inputWidgets": {},
     "nuid": "ec0f6e3e-3936-44e8-94b6-e036d04b3987",
     "showTitle": false,
     "title": ""
    }
   },
   "outputs": [],
   "source": [
    "query = \"\"\"\n",
    "SELECT\n",
    "  t.trip_id,\n",
    "  t.rider_id,\n",
    "  t.rideable_type,\n",
    "  t.started_at,\n",
    "  t.ended_at,\n",
    "  t.start_station_id,\n",
    "  t.end_station_id,\n",
    "  FLOOR(DATEDIFF(SECOND, t.started_at, t.ended_at) / 60) AS duration,\n",
    "  FLOOR(MONTHS_BETWEEN(t.started_at, r.birthday) / 12) AS rider_age\n",
    "FROM\n",
    "  trip_bronze t\n",
    "JOIN\n",
    "  dim_rider r\n",
    "ON\n",
    "  t.rider_id = r.rider_id;\n",
    "\"\"\"\n",
    "df_trip_gold = spark.sql(query)"
   ]
  },
  {
   "cell_type": "code",
   "execution_count": 0,
   "metadata": {
    "application/vnd.databricks.v1+cell": {
     "cellMetadata": {
      "byteLimit": 2048000,
      "rowLimit": 10000
     },
     "inputWidgets": {},
     "nuid": "aea49bc8-5b2a-4577-a4a2-924e2cee79d8",
     "showTitle": false,
     "title": ""
    }
   },
   "outputs": [],
   "source": [
    "# Create fact_trip\n",
    "df_trip_gold.write.format(\"delta\").mode(\"overwrite\").saveAsTable(\"fact_trip\")"
   ]
  },
  {
   "cell_type": "code",
   "execution_count": 0,
   "metadata": {
    "application/vnd.databricks.v1+cell": {
     "cellMetadata": {
      "byteLimit": 2048000,
      "rowLimit": 10000
     },
     "inputWidgets": {},
     "nuid": "81bc46fa-6f1a-4b70-946a-702ec39f339a",
     "showTitle": false,
     "title": ""
    }
   },
   "outputs": [
    {
     "output_type": "stream",
     "name": "stdout",
     "output_type": "stream",
     "text": [
      "<class 'pyspark.pandas.frame.DataFrame'>\nInt64Index: 4584921 entries, 0 to 4584920\nData columns (total 9 columns):\n #   Column            Non-Null Count    Dtype         \n---  ------            --------------    -----         \n 0   trip_id           4584921 non-null  object        \n 1   rider_id          4584921 non-null  int32         \n 2   rideable_type     4584921 non-null  object        \n 3   started_at        4584921 non-null  datetime64[ns]\n 4   ended_at          4584921 non-null  datetime64[ns]\n 5   start_station_id  4584921 non-null  object        \n 6   end_station_id    4584921 non-null  object        \n 7   duration          4584921 non-null  int64         \n 8   rider_age         4584921 non-null  int64         \ndtypes: datetime64[ns](2), int32(1), int64(2), object(4)"
     ]
    },
    {
     "output_type": "execute_result",
     "data": {
      "text/html": [
       "<div>\n",
       "<style scoped>\n",
       "    .dataframe tbody tr th:only-of-type {\n",
       "        vertical-align: middle;\n",
       "    }\n",
       "\n",
       "    .dataframe tbody tr th {\n",
       "        vertical-align: top;\n",
       "    }\n",
       "\n",
       "    .dataframe thead th {\n",
       "        text-align: right;\n",
       "    }\n",
       "</style>\n",
       "<table border=\"1\" class=\"dataframe\">\n",
       "  <thead>\n",
       "    <tr style=\"text-align: right;\">\n",
       "      <th></th>\n",
       "      <th>trip_id</th>\n",
       "      <th>rider_id</th>\n",
       "      <th>rideable_type</th>\n",
       "      <th>started_at</th>\n",
       "      <th>ended_at</th>\n",
       "      <th>start_station_id</th>\n",
       "      <th>end_station_id</th>\n",
       "      <th>duration</th>\n",
       "      <th>rider_age</th>\n",
       "    </tr>\n",
       "  </thead>\n",
       "  <tbody>\n",
       "    <tr>\n",
       "      <th>0</th>\n",
       "      <td>222BB8E5059252D7</td>\n",
       "      <td>34062</td>\n",
       "      <td>classic_bike</td>\n",
       "      <td>2021-06-13 09:48:47</td>\n",
       "      <td>2021-06-13 10:07:23</td>\n",
       "      <td>KA1503000064</td>\n",
       "      <td>13021</td>\n",
       "      <td>18</td>\n",
       "      <td>30</td>\n",
       "    </tr>\n",
       "    <tr>\n",
       "      <th>1</th>\n",
       "      <td>1826E16CB5486018</td>\n",
       "      <td>5342</td>\n",
       "      <td>classic_bike</td>\n",
       "      <td>2021-06-21 22:59:13</td>\n",
       "      <td>2021-06-21 23:04:29</td>\n",
       "      <td>TA1306000010</td>\n",
       "      <td>13021</td>\n",
       "      <td>5</td>\n",
       "      <td>26</td>\n",
       "    </tr>\n",
       "  </tbody>\n",
       "</table>\n",
       "</div>"
      ],
      "text/plain": [
       "            trip_id  rider_id rideable_type          started_at            ended_at start_station_id end_station_id  duration  rider_age\n",
       "0  222BB8E5059252D7     34062  classic_bike 2021-06-13 09:48:47 2021-06-13 10:07:23     KA1503000064          13021        18         30\n",
       "1  1826E16CB5486018      5342  classic_bike 2021-06-21 22:59:13 2021-06-21 23:04:29     TA1306000010          13021         5         26"
      ]
     },
     "execution_count": 293,
     "metadata": {},
     "output_type": "execute_result"
    }
   ],
   "source": [
    "info(spark.table('fact_trip'))"
   ]
  },
  {
   "cell_type": "markdown",
   "metadata": {
    "application/vnd.databricks.v1+cell": {
     "cellMetadata": {
      "byteLimit": 2048000,
      "rowLimit": 10000
     },
     "inputWidgets": {},
     "nuid": "d5bbd68e-2912-4c6a-8796-6f850e7144fb",
     "showTitle": false,
     "title": ""
    }
   },
   "source": []
  },
  {
   "cell_type": "markdown",
   "metadata": {
    "application/vnd.databricks.v1+cell": {
     "cellMetadata": {
      "byteLimit": 2048000,
      "rowLimit": 10000
     },
     "inputWidgets": {},
     "nuid": "8b1ccf1b-551e-44c2-8df5-0ee2be3623f9",
     "showTitle": false,
     "title": ""
    }
   },
   "source": [
    "### Date Dimension"
   ]
  },
  {
   "cell_type": "code",
   "execution_count": 0,
   "metadata": {
    "application/vnd.databricks.v1+cell": {
     "cellMetadata": {
      "byteLimit": 2048000,
      "rowLimit": 10000
     },
     "inputWidgets": {},
     "nuid": "c435b8de-3c80-4bb5-a284-3f00b3a38abc",
     "showTitle": false,
     "title": ""
    }
   },
   "outputs": [],
   "source": [
    "query=\"\"\"\n",
    "SELECT UUID() AS time_id,\n",
    "  started_at AS date,\n",
    "  dayofweek(started_at) day_of_week,\n",
    "  DATEPART('DAY', started_at) day_of_month,\n",
    "  DATEPART('WEEK', started_at) week_of_year,\n",
    "  DATEPART('QUARTER', started_at) quarter,\n",
    "  DATEPART('MONTH', started_at) month,\n",
    "  DATEPART('YEAR', started_at) year\n",
    "FROM trip_bronze\n",
    "WHERE started_at IS NOT NULL\n",
    "UNION\n",
    "SELECT UUID() AS time_id,\n",
    "  ended_at AS date,\n",
    "  dayofweek(ended_at) day_of_week,\n",
    "  DATEPART('DAY', ended_at) day_of_month,\n",
    "  DATEPART('WEEK', ended_at) week_of_year,\n",
    "  DATEPART('QUARTER', ended_at) quarter,\n",
    "  DATEPART('MONTH', ended_at) month,\n",
    "  DATEPART('YEAR', ended_at) year\n",
    "FROM trip_bronze\n",
    "WHERE ended_at IS NOT NULL\n",
    "UNION\n",
    "SELECT UUID() AS time_id,\n",
    "  birthdate AS date,\n",
    "  dayofweek(birthdate) day_of_week,\n",
    "  DATEPART('DAY', birthdate) day_of_month,\n",
    "  DATEPART('WEEK', birthdate) week_of_year,\n",
    "  DATEPART('QUARTER', birthdate) quarter,\n",
    "  DATEPART('MONTH', birthdate) month,\n",
    "  DATEPART('YEAR', birthdate) year\n",
    "FROM rider_bronze\n",
    "WHERE birthdate IS NOT NULL\n",
    "UNION\n",
    "SELECT UUID() AS time_id,\n",
    "  account_start_date AS date,\n",
    "  dayofweek(account_start_date) day_of_week,\n",
    "  DATEPART('DAY', account_start_date) day_of_month,\n",
    "  DATEPART('WEEK', account_start_date) week_of_year,\n",
    "  DATEPART('QUARTER', account_start_date) quarter,\n",
    "  DATEPART('MONTH', account_start_date) month,\n",
    "  DATEPART('YEAR', account_start_date) year\n",
    "FROM rider_bronze\n",
    "WHERE account_start_date IS NOT NULL\n",
    "UNION\n",
    "SELECT UUID() AS time_id,\n",
    "  account_end_date AS date,\n",
    "  dayofweek(account_end_date) day_of_week,\n",
    "  DATEPART('DAY', account_end_date) day_of_month,\n",
    "  DATEPART('WEEK', account_end_date) week_of_year,\n",
    "  DATEPART('QUARTER', account_end_date) quarter,\n",
    "  DATEPART('MONTH', account_end_date) month,\n",
    "  DATEPART('YEAR', account_end_date) year\n",
    "FROM rider_bronze\n",
    "WHERE account_end_date IS NOT NULL\n",
    "UNION\n",
    "SELECT UUID() AS time_id,\n",
    "  date,\n",
    "  dayofweek(date) day_of_week,\n",
    "  DATEPART('DAY', date) day_of_month,\n",
    "  DATEPART('WEEK', date) week_of_year,\n",
    "  DATEPART('QUARTER', date) quarter,\n",
    "  DATEPART('MONTH', date) month,\n",
    "  DATEPART('YEAR', date) year\n",
    "FROM payment_bronze\n",
    "WHERE date IS NOT NULL\n",
    "\"\"\""
   ]
  },
  {
   "cell_type": "code",
   "execution_count": 0,
   "metadata": {
    "application/vnd.databricks.v1+cell": {
     "cellMetadata": {
      "byteLimit": 2048000,
      "rowLimit": 10000
     },
     "inputWidgets": {},
     "nuid": "6baf6625-b570-4c3b-8e37-2a91f36bf9bf",
     "showTitle": false,
     "title": ""
    }
   },
   "outputs": [],
   "source": [
    "df_dim_date = spark.sql(query)"
   ]
  },
  {
   "cell_type": "code",
   "execution_count": 0,
   "metadata": {
    "application/vnd.databricks.v1+cell": {
     "cellMetadata": {
      "byteLimit": 2048000,
      "rowLimit": 10000
     },
     "inputWidgets": {},
     "nuid": "d749dad7-52ff-490e-9f9e-9209a9196f48",
     "showTitle": false,
     "title": ""
    }
   },
   "outputs": [],
   "source": [
    "# Create dim_date\n",
    "df_dim_date.write.format(\"delta\").mode(\"overwrite\").saveAsTable(\"dim_date\")"
   ]
  },
  {
   "cell_type": "code",
   "execution_count": 0,
   "metadata": {
    "application/vnd.databricks.v1+cell": {
     "cellMetadata": {
      "byteLimit": 2048000,
      "rowLimit": 10000
     },
     "inputWidgets": {},
     "nuid": "831a943f-2646-4956-be58-431bbb6045d7",
     "showTitle": false,
     "title": ""
    }
   },
   "outputs": [
    {
     "output_type": "stream",
     "name": "stdout",
     "output_type": "stream",
     "text": [
      "<class 'pyspark.pandas.frame.DataFrame'>\nInt64Index: 11281403 entries, 0 to 11281402\nData columns (total 8 columns):\n #   Column        Non-Null Count     Dtype         \n---  ------        --------------     -----         \n 0   time_id       11281403 non-null  object        \n 1   date          11281403 non-null  datetime64[ns]\n 2   day_of_week   11281403 non-null  int32         \n 3   day_of_month  11281403 non-null  int32         \n 4   week_of_year  11281403 non-null  int32         \n 5   quarter       11281403 non-null  int32         \n 6   month         11281403 non-null  int32         \n 7   year          11281403 non-null  int32         \ndtypes: datetime64[ns](1), int32(6), object(1)"
     ]
    },
    {
     "output_type": "execute_result",
     "data": {
      "text/html": [
       "<div>\n",
       "<style scoped>\n",
       "    .dataframe tbody tr th:only-of-type {\n",
       "        vertical-align: middle;\n",
       "    }\n",
       "\n",
       "    .dataframe tbody tr th {\n",
       "        vertical-align: top;\n",
       "    }\n",
       "\n",
       "    .dataframe thead th {\n",
       "        text-align: right;\n",
       "    }\n",
       "</style>\n",
       "<table border=\"1\" class=\"dataframe\">\n",
       "  <thead>\n",
       "    <tr style=\"text-align: right;\">\n",
       "      <th></th>\n",
       "      <th>time_id</th>\n",
       "      <th>date</th>\n",
       "      <th>day_of_week</th>\n",
       "      <th>day_of_month</th>\n",
       "      <th>week_of_year</th>\n",
       "      <th>quarter</th>\n",
       "      <th>month</th>\n",
       "      <th>year</th>\n",
       "    </tr>\n",
       "  </thead>\n",
       "  <tbody>\n",
       "    <tr>\n",
       "      <th>0</th>\n",
       "      <td>2af69bba-f328-4ae6-9568-24ce5d721f6b</td>\n",
       "      <td>2021-06-02 17:10:35</td>\n",
       "      <td>4</td>\n",
       "      <td>2</td>\n",
       "      <td>22</td>\n",
       "      <td>2</td>\n",
       "      <td>6</td>\n",
       "      <td>2021</td>\n",
       "    </tr>\n",
       "    <tr>\n",
       "      <th>1</th>\n",
       "      <td>7a28dec1-f9b5-401c-9d60-a0e5465e2f81</td>\n",
       "      <td>2021-06-11 17:11:38</td>\n",
       "      <td>6</td>\n",
       "      <td>11</td>\n",
       "      <td>23</td>\n",
       "      <td>2</td>\n",
       "      <td>6</td>\n",
       "      <td>2021</td>\n",
       "    </tr>\n",
       "  </tbody>\n",
       "</table>\n",
       "</div>"
      ],
      "text/plain": [
       "                                time_id                date  day_of_week  day_of_month  week_of_year  quarter  month  year\n",
       "0  2af69bba-f328-4ae6-9568-24ce5d721f6b 2021-06-02 17:10:35            4             2            22        2      6  2021\n",
       "1  7a28dec1-f9b5-401c-9d60-a0e5465e2f81 2021-06-11 17:11:38            6            11            23        2      6  2021"
      ]
     },
     "execution_count": 297,
     "metadata": {},
     "output_type": "execute_result"
    }
   ],
   "source": [
    "info(spark.table('dim_date'))"
   ]
  }
 ],
 "metadata": {
  "application/vnd.databricks.v1+notebook": {
   "dashboards": [],
   "language": "python",
   "notebookMetadata": {
    "pythonIndentUnit": 4
   },
   "notebookName": "transform",
   "widgets": {}
  }
 },
 "nbformat": 4,
 "nbformat_minor": 0
}
