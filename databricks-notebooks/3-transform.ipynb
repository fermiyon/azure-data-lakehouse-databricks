{
 "cells": [
  {
   "cell_type": "markdown",
   "metadata": {
    "application/vnd.databricks.v1+cell": {
     "cellMetadata": {
      "byteLimit": 2048000,
      "rowLimit": 10000
     },
     "inputWidgets": {},
     "nuid": "d15ba20d-3c83-4ae3-a25b-6ec1e09232d0",
     "showTitle": false,
     "title": ""
    }
   },
   "source": [
    "## Azure Databricks: Transform the data using Spark"
   ]
  },
  {
   "cell_type": "markdown",
   "metadata": {
    "application/vnd.databricks.v1+cell": {
     "cellMetadata": {
      "byteLimit": 2048000,
      "rowLimit": 10000
     },
     "inputWidgets": {},
     "nuid": "23d95349-add3-4989-80c9-12369ad05218",
     "showTitle": false,
     "title": ""
    }
   },
   "source": [
    "By Selman Karaosmanoglu"
   ]
  },
  {
   "cell_type": "code",
   "execution_count": 0,
   "metadata": {
    "application/vnd.databricks.v1+cell": {
     "cellMetadata": {
      "byteLimit": 2048000,
      "rowLimit": 10000
     },
     "inputWidgets": {},
     "nuid": "b4d69020-9bc0-4402-b5d0-ca0dfa15af30",
     "showTitle": false,
     "title": ""
    }
   },
   "outputs": [],
   "source": [
    "from pyspark.sql import DataFrame"
   ]
  },
  {
   "cell_type": "code",
   "execution_count": 0,
   "metadata": {
    "application/vnd.databricks.v1+cell": {
     "cellMetadata": {
      "byteLimit": 2048000,
      "rowLimit": 10000
     },
     "inputWidgets": {},
     "nuid": "47dcc543-6d2b-4171-bfa9-1cba50ac7431",
     "showTitle": false,
     "title": ""
    }
   },
   "outputs": [],
   "source": [
    "# User-defined functions\n",
    "def info(df:DataFrame):\n",
    "    display(df.pandas_api().info())\n",
    "    display(df.pandas_api().head(2))\n",
    "    display(df.printSchema())"
   ]
  },
  {
   "cell_type": "markdown",
   "metadata": {
    "application/vnd.databricks.v1+cell": {
     "cellMetadata": {
      "byteLimit": 2048000,
      "rowLimit": 10000
     },
     "inputWidgets": {},
     "nuid": "bb4fba4b-c030-49ae-8e75-0a1a440b6714",
     "showTitle": false,
     "title": ""
    }
   },
   "source": [
    "### Payment Fact"
   ]
  },
  {
   "cell_type": "code",
   "execution_count": 0,
   "metadata": {
    "application/vnd.databricks.v1+cell": {
     "cellMetadata": {
      "byteLimit": 2048000,
      "rowLimit": 10000
     },
     "inputWidgets": {},
     "nuid": "a3d2e321-927c-4ee5-8f85-d1732076a458",
     "showTitle": false,
     "title": ""
    }
   },
   "outputs": [],
   "source": [
    "# Read\n",
    "df_payment_bronze = spark.table('payment_bronze')"
   ]
  },
  {
   "cell_type": "code",
   "execution_count": 0,
   "metadata": {
    "application/vnd.databricks.v1+cell": {
     "cellMetadata": {
      "byteLimit": 2048000,
      "rowLimit": 10000
     },
     "inputWidgets": {},
     "nuid": "777ddbc1-5889-45d6-bd61-0b869ac02f95",
     "showTitle": false,
     "title": ""
    }
   },
   "outputs": [
    {
     "output_type": "stream",
     "name": "stdout",
     "output_type": "stream",
     "text": [
      "<class 'pyspark.pandas.frame.DataFrame'>\nInt64Index: 1946607 entries, 0 to 1946606\nData columns (total 4 columns):\n #   Column      Non-Null Count    Dtype  \n---  ------      --------------    -----  \n 0   payment_id  1946607 non-null  int32  \n 1   date        1946607 non-null  object \n 2   amount      1946607 non-null  float64\n 3   rider_id    1946607 non-null  int32  \ndtypes: float64(1), int32(2), object(1)"
     ]
    },
    {
     "output_type": "display_data",
     "data": {
      "text/html": [
       "<style scoped>\n",
       "  .table-result-container {\n",
       "    max-height: 300px;\n",
       "    overflow: auto;\n",
       "  }\n",
       "  table, th, td {\n",
       "    border: 1px solid black;\n",
       "    border-collapse: collapse;\n",
       "  }\n",
       "  th, td {\n",
       "    padding: 5px;\n",
       "  }\n",
       "  th {\n",
       "    text-align: left;\n",
       "  }\n",
       "</style><div class='table-result-container'><table class='table-result'><thead style='background-color: white'><tr><th>payment_id</th><th>date</th><th>amount</th><th>rider_id</th></tr></thead><tbody><tr><td>1</td><td>2019-05-01</td><td>9.0</td><td>1000</td></tr><tr><td>2</td><td>2019-06-01</td><td>9.0</td><td>1000</td></tr></tbody></table></div>"
      ]
     },
     "metadata": {
      "application/vnd.databricks.v1+output": {
       "addedWidgets": {},
       "aggData": [],
       "aggError": "",
       "aggOverflow": false,
       "aggSchema": [],
       "aggSeriesLimitReached": false,
       "aggType": "",
       "arguments": {},
       "columnCustomDisplayInfos": {},
       "data": [
        [
         1,
         "2019-05-01",
         9.0,
         1000
        ],
        [
         2,
         "2019-06-01",
         9.0,
         1000
        ]
       ],
       "datasetInfos": [],
       "dbfsResultPath": null,
       "isJsonSchema": true,
       "metadata": {},
       "overflow": false,
       "plotOptions": {
        "customPlotOptions": {},
        "displayType": "table",
        "pivotAggregation": null,
        "pivotColumns": null,
        "xColumns": null,
        "yColumns": null
       },
       "removedWidgets": [],
       "schema": [
        {
         "metadata": "{}",
         "name": "payment_id",
         "type": "\"integer\""
        },
        {
         "metadata": "{\"__detected_date_formats\":\"yyyy-M-d\"}",
         "name": "date",
         "type": "\"date\""
        },
        {
         "metadata": "{}",
         "name": "amount",
         "type": "\"double\""
        },
        {
         "metadata": "{}",
         "name": "rider_id",
         "type": "\"integer\""
        }
       ],
       "type": "table"
      }
     },
     "output_type": "display_data"
    },
    {
     "output_type": "stream",
     "name": "stdout",
     "output_type": "stream",
     "text": [
      "root\n |-- payment_id: integer (nullable = true)\n |-- date: date (nullable = true)\n |-- amount: double (nullable = true)\n |-- rider_id: integer (nullable = true)\n\n"
     ]
    }
   ],
   "source": [
    "info(df_payment_bronze)"
   ]
  },
  {
   "cell_type": "code",
   "execution_count": 0,
   "metadata": {
    "application/vnd.databricks.v1+cell": {
     "cellMetadata": {
      "byteLimit": 2048000,
      "rowLimit": 10000
     },
     "inputWidgets": {},
     "nuid": "cec1f6a1-9652-45f2-b868-240023d7c78b",
     "showTitle": false,
     "title": ""
    }
   },
   "outputs": [],
   "source": [
    "# Rename column\n",
    "df_payment_bronze = df_payment_bronze.withColumnRenamed(\"date\", \"payment_date\")"
   ]
  },
  {
   "cell_type": "code",
   "execution_count": 0,
   "metadata": {
    "application/vnd.databricks.v1+cell": {
     "cellMetadata": {
      "byteLimit": 2048000,
      "rowLimit": 10000
     },
     "inputWidgets": {},
     "nuid": "5fb31e28-26f9-408a-a355-2422831c0d3a",
     "showTitle": false,
     "title": ""
    }
   },
   "outputs": [],
   "source": [
    "# Create a Spark table with Delta format and overwrite mode\n",
    "df_payment_bronze.write.format(\"delta\").mode(\"overwrite\").saveAsTable(\"fact_payment\")"
   ]
  },
  {
   "cell_type": "code",
   "execution_count": 0,
   "metadata": {
    "application/vnd.databricks.v1+cell": {
     "cellMetadata": {
      "byteLimit": 2048000,
      "rowLimit": 10000
     },
     "inputWidgets": {},
     "nuid": "579387db-30cb-4519-856a-2bde1f7ca122",
     "showTitle": false,
     "title": ""
    }
   },
   "outputs": [],
   "source": [
    "df_payment_gold = spark.table(\"fact_payment\")"
   ]
  },
  {
   "cell_type": "code",
   "execution_count": 0,
   "metadata": {
    "application/vnd.databricks.v1+cell": {
     "cellMetadata": {
      "byteLimit": 2048000,
      "rowLimit": 10000
     },
     "inputWidgets": {},
     "nuid": "e9d0d011-1514-4b22-b3b5-f99bdff72964",
     "showTitle": false,
     "title": ""
    }
   },
   "outputs": [
    {
     "output_type": "stream",
     "name": "stdout",
     "output_type": "stream",
     "text": [
      "<class 'pyspark.pandas.frame.DataFrame'>\nInt64Index: 1946607 entries, 0 to 1946606\nData columns (total 4 columns):\n #   Column        Non-Null Count    Dtype  \n---  ------        --------------    -----  \n 0   payment_id    1946607 non-null  int32  \n 1   payment_date  1946607 non-null  object \n 2   amount        1946607 non-null  float64\n 3   rider_id      1946607 non-null  int32  \ndtypes: float64(1), int32(2), object(1)"
     ]
    },
    {
     "output_type": "display_data",
     "data": {
      "text/html": [
       "<style scoped>\n",
       "  .table-result-container {\n",
       "    max-height: 300px;\n",
       "    overflow: auto;\n",
       "  }\n",
       "  table, th, td {\n",
       "    border: 1px solid black;\n",
       "    border-collapse: collapse;\n",
       "  }\n",
       "  th, td {\n",
       "    padding: 5px;\n",
       "  }\n",
       "  th {\n",
       "    text-align: left;\n",
       "  }\n",
       "</style><div class='table-result-container'><table class='table-result'><thead style='background-color: white'><tr><th>payment_id</th><th>payment_date</th><th>amount</th><th>rider_id</th></tr></thead><tbody><tr><td>1064462</td><td>2020-06-01</td><td>9.0</td><td>42106</td></tr><tr><td>1064463</td><td>2020-07-01</td><td>9.0</td><td>42106</td></tr></tbody></table></div>"
      ]
     },
     "metadata": {
      "application/vnd.databricks.v1+output": {
       "addedWidgets": {},
       "aggData": [],
       "aggError": "",
       "aggOverflow": false,
       "aggSchema": [],
       "aggSeriesLimitReached": false,
       "aggType": "",
       "arguments": {},
       "columnCustomDisplayInfos": {},
       "data": [
        [
         1064462,
         "2020-06-01",
         9.0,
         42106
        ],
        [
         1064463,
         "2020-07-01",
         9.0,
         42106
        ]
       ],
       "datasetInfos": [],
       "dbfsResultPath": null,
       "isJsonSchema": true,
       "metadata": {},
       "overflow": false,
       "plotOptions": {
        "customPlotOptions": {},
        "displayType": "table",
        "pivotAggregation": null,
        "pivotColumns": null,
        "xColumns": null,
        "yColumns": null
       },
       "removedWidgets": [],
       "schema": [
        {
         "metadata": "{}",
         "name": "payment_id",
         "type": "\"integer\""
        },
        {
         "metadata": "{\"__detected_date_formats\":\"yyyy-M-d\"}",
         "name": "payment_date",
         "type": "\"date\""
        },
        {
         "metadata": "{}",
         "name": "amount",
         "type": "\"double\""
        },
        {
         "metadata": "{}",
         "name": "rider_id",
         "type": "\"integer\""
        }
       ],
       "type": "table"
      }
     },
     "output_type": "display_data"
    },
    {
     "output_type": "stream",
     "name": "stdout",
     "output_type": "stream",
     "text": [
      "root\n |-- payment_id: integer (nullable = true)\n |-- payment_date: date (nullable = true)\n |-- amount: double (nullable = true)\n |-- rider_id: integer (nullable = true)\n\n"
     ]
    }
   ],
   "source": [
    "info(df_payment_gold)"
   ]
  },
  {
   "cell_type": "markdown",
   "metadata": {
    "application/vnd.databricks.v1+cell": {
     "cellMetadata": {
      "byteLimit": 2048000,
      "rowLimit": 10000
     },
     "inputWidgets": {},
     "nuid": "4586caad-d795-4005-9f31-a0d97fb2c12b",
     "showTitle": false,
     "title": ""
    }
   },
   "source": [
    "### Rider Dimension"
   ]
  },
  {
   "cell_type": "code",
   "execution_count": 0,
   "metadata": {
    "application/vnd.databricks.v1+cell": {
     "cellMetadata": {
      "byteLimit": 2048000,
      "rowLimit": 10000
     },
     "inputWidgets": {},
     "nuid": "b8dba85f-d008-4c79-a629-d74e7e100e88",
     "showTitle": false,
     "title": ""
    }
   },
   "outputs": [],
   "source": [
    "# Read\n",
    "df_rider_bronze = spark.table('rider_bronze')"
   ]
  },
  {
   "cell_type": "code",
   "execution_count": 0,
   "metadata": {
    "application/vnd.databricks.v1+cell": {
     "cellMetadata": {
      "byteLimit": 2048000,
      "rowLimit": 10000
     },
     "inputWidgets": {},
     "nuid": "56f794c1-4af7-4fb0-8154-a340b5bbbf99",
     "showTitle": false,
     "title": ""
    }
   },
   "outputs": [
    {
     "output_type": "stream",
     "name": "stdout",
     "output_type": "stream",
     "text": [
      "<class 'pyspark.pandas.frame.DataFrame'>\nInt64Index: 75000 entries, 0 to 74999\nData columns (total 8 columns):\n #   Column              Non-Null Count  Dtype \n---  ------              --------------  ----- \n 0   rider_id            75000 non-null  int32 \n 1   first_name          75000 non-null  object\n 2   last_name           75000 non-null  object\n 3   address             75000 non-null  object\n 4   birthdate           75000 non-null  object\n 5   account_start_date  75000 non-null  object\n 6   account_end_date    14954 non-null  object\n 7   is_member           75000 non-null  bool  \ndtypes: bool(1), int32(1), object(6)"
     ]
    },
    {
     "output_type": "display_data",
     "data": {
      "text/html": [
       "<style scoped>\n",
       "  .table-result-container {\n",
       "    max-height: 300px;\n",
       "    overflow: auto;\n",
       "  }\n",
       "  table, th, td {\n",
       "    border: 1px solid black;\n",
       "    border-collapse: collapse;\n",
       "  }\n",
       "  th, td {\n",
       "    padding: 5px;\n",
       "  }\n",
       "  th {\n",
       "    text-align: left;\n",
       "  }\n",
       "</style><div class='table-result-container'><table class='table-result'><thead style='background-color: white'><tr><th>rider_id</th><th>first_name</th><th>last_name</th><th>address</th><th>birthdate</th><th>account_start_date</th><th>account_end_date</th><th>is_member</th></tr></thead><tbody><tr><td>57257</td><td>Mark</td><td>Mcfarland</td><td>9928 Hunter Ranch</td><td>1982-02-01</td><td>2020-12-05</td><td>null</td><td>false</td></tr><tr><td>57258</td><td>Mark</td><td>Davis</td><td>20036 Barrett Summit Apt. 714</td><td>1963-07-28</td><td>2017-07-12</td><td>null</td><td>true</td></tr></tbody></table></div>"
      ]
     },
     "metadata": {
      "application/vnd.databricks.v1+output": {
       "addedWidgets": {},
       "aggData": [],
       "aggError": "",
       "aggOverflow": false,
       "aggSchema": [],
       "aggSeriesLimitReached": false,
       "aggType": "",
       "arguments": {},
       "columnCustomDisplayInfos": {},
       "data": [
        [
         57257,
         "Mark",
         "Mcfarland",
         "9928 Hunter Ranch",
         "1982-02-01",
         "2020-12-05",
         null,
         false
        ],
        [
         57258,
         "Mark",
         "Davis",
         "20036 Barrett Summit Apt. 714",
         "1963-07-28",
         "2017-07-12",
         null,
         true
        ]
       ],
       "datasetInfos": [],
       "dbfsResultPath": null,
       "isJsonSchema": true,
       "metadata": {},
       "overflow": false,
       "plotOptions": {
        "customPlotOptions": {},
        "displayType": "table",
        "pivotAggregation": null,
        "pivotColumns": null,
        "xColumns": null,
        "yColumns": null
       },
       "removedWidgets": [],
       "schema": [
        {
         "metadata": "{}",
         "name": "rider_id",
         "type": "\"integer\""
        },
        {
         "metadata": "{}",
         "name": "first_name",
         "type": "\"string\""
        },
        {
         "metadata": "{}",
         "name": "last_name",
         "type": "\"string\""
        },
        {
         "metadata": "{}",
         "name": "address",
         "type": "\"string\""
        },
        {
         "metadata": "{\"__detected_date_formats\":\"yyyy-M-d\"}",
         "name": "birthdate",
         "type": "\"date\""
        },
        {
         "metadata": "{\"__detected_date_formats\":\"yyyy-M-d\"}",
         "name": "account_start_date",
         "type": "\"date\""
        },
        {
         "metadata": "{\"__detected_date_formats\":\"yyyy-M-d\"}",
         "name": "account_end_date",
         "type": "\"date\""
        },
        {
         "metadata": "{}",
         "name": "is_member",
         "type": "\"boolean\""
        }
       ],
       "type": "table"
      }
     },
     "output_type": "display_data"
    },
    {
     "output_type": "stream",
     "name": "stdout",
     "output_type": "stream",
     "text": [
      "root\n |-- rider_id: integer (nullable = true)\n |-- first_name: string (nullable = true)\n |-- last_name: string (nullable = true)\n |-- address: string (nullable = true)\n |-- birthdate: date (nullable = true)\n |-- account_start_date: date (nullable = true)\n |-- account_end_date: date (nullable = true)\n |-- is_member: boolean (nullable = true)\n\n"
     ]
    }
   ],
   "source": [
    "info(df_rider_bronze)"
   ]
  },
  {
   "cell_type": "code",
   "execution_count": 0,
   "metadata": {
    "application/vnd.databricks.v1+cell": {
     "cellMetadata": {
      "byteLimit": 2048000,
      "rowLimit": 10000
     },
     "inputWidgets": {},
     "nuid": "f552e51a-d9b3-4fdb-aefb-247a2e2d8f3a",
     "showTitle": false,
     "title": ""
    }
   },
   "outputs": [],
   "source": [
    "df_rider_gold = df_rider_bronze.withColumnRenamed(\"birthdate\", \"birthday\")"
   ]
  },
  {
   "cell_type": "code",
   "execution_count": 0,
   "metadata": {
    "application/vnd.databricks.v1+cell": {
     "cellMetadata": {
      "byteLimit": 2048000,
      "rowLimit": 10000
     },
     "inputWidgets": {},
     "nuid": "f0ba8cd7-f1cc-46fb-8c75-54bfdfb57b6a",
     "showTitle": false,
     "title": ""
    }
   },
   "outputs": [],
   "source": [
    "# Create a Spark table with Delta format and overwrite mode\n",
    "df_rider_gold.write.format(\"delta\").mode(\"overwrite\").saveAsTable(\"dim_rider\")"
   ]
  },
  {
   "cell_type": "code",
   "execution_count": 0,
   "metadata": {
    "application/vnd.databricks.v1+cell": {
     "cellMetadata": {
      "byteLimit": 2048000,
      "rowLimit": 10000
     },
     "inputWidgets": {},
     "nuid": "0ae74370-d66f-4931-a3e5-3cb3d960992c",
     "showTitle": false,
     "title": ""
    }
   },
   "outputs": [
    {
     "output_type": "stream",
     "name": "stdout",
     "output_type": "stream",
     "text": [
      "<class 'pyspark.pandas.frame.DataFrame'>\nInt64Index: 75000 entries, 0 to 74999\nData columns (total 8 columns):\n #   Column              Non-Null Count  Dtype \n---  ------              --------------  ----- \n 0   rider_id            75000 non-null  int32 \n 1   first_name          75000 non-null  object\n 2   last_name           75000 non-null  object\n 3   address             75000 non-null  object\n 4   birthday            75000 non-null  object\n 5   account_start_date  75000 non-null  object\n 6   account_end_date    14954 non-null  object\n 7   is_member           75000 non-null  bool  \ndtypes: bool(1), int32(1), object(6)"
     ]
    },
    {
     "output_type": "display_data",
     "data": {
      "text/html": [
       "<style scoped>\n",
       "  .table-result-container {\n",
       "    max-height: 300px;\n",
       "    overflow: auto;\n",
       "  }\n",
       "  table, th, td {\n",
       "    border: 1px solid black;\n",
       "    border-collapse: collapse;\n",
       "  }\n",
       "  th, td {\n",
       "    padding: 5px;\n",
       "  }\n",
       "  th {\n",
       "    text-align: left;\n",
       "  }\n",
       "</style><div class='table-result-container'><table class='table-result'><thead style='background-color: white'><tr><th>rider_id</th><th>first_name</th><th>last_name</th><th>address</th><th>birthday</th><th>account_start_date</th><th>account_end_date</th><th>is_member</th></tr></thead><tbody><tr><td>57257</td><td>Mark</td><td>Mcfarland</td><td>9928 Hunter Ranch</td><td>1982-02-01</td><td>2020-12-05</td><td>null</td><td>false</td></tr><tr><td>57258</td><td>Mark</td><td>Davis</td><td>20036 Barrett Summit Apt. 714</td><td>1963-07-28</td><td>2017-07-12</td><td>null</td><td>true</td></tr></tbody></table></div>"
      ]
     },
     "metadata": {
      "application/vnd.databricks.v1+output": {
       "addedWidgets": {},
       "aggData": [],
       "aggError": "",
       "aggOverflow": false,
       "aggSchema": [],
       "aggSeriesLimitReached": false,
       "aggType": "",
       "arguments": {},
       "columnCustomDisplayInfos": {},
       "data": [
        [
         57257,
         "Mark",
         "Mcfarland",
         "9928 Hunter Ranch",
         "1982-02-01",
         "2020-12-05",
         null,
         false
        ],
        [
         57258,
         "Mark",
         "Davis",
         "20036 Barrett Summit Apt. 714",
         "1963-07-28",
         "2017-07-12",
         null,
         true
        ]
       ],
       "datasetInfos": [],
       "dbfsResultPath": null,
       "isJsonSchema": true,
       "metadata": {},
       "overflow": false,
       "plotOptions": {
        "customPlotOptions": {},
        "displayType": "table",
        "pivotAggregation": null,
        "pivotColumns": null,
        "xColumns": null,
        "yColumns": null
       },
       "removedWidgets": [],
       "schema": [
        {
         "metadata": "{}",
         "name": "rider_id",
         "type": "\"integer\""
        },
        {
         "metadata": "{}",
         "name": "first_name",
         "type": "\"string\""
        },
        {
         "metadata": "{}",
         "name": "last_name",
         "type": "\"string\""
        },
        {
         "metadata": "{}",
         "name": "address",
         "type": "\"string\""
        },
        {
         "metadata": "{\"__detected_date_formats\":\"yyyy-M-d\"}",
         "name": "birthday",
         "type": "\"date\""
        },
        {
         "metadata": "{\"__detected_date_formats\":\"yyyy-M-d\"}",
         "name": "account_start_date",
         "type": "\"date\""
        },
        {
         "metadata": "{\"__detected_date_formats\":\"yyyy-M-d\"}",
         "name": "account_end_date",
         "type": "\"date\""
        },
        {
         "metadata": "{}",
         "name": "is_member",
         "type": "\"boolean\""
        }
       ],
       "type": "table"
      }
     },
     "output_type": "display_data"
    },
    {
     "output_type": "stream",
     "name": "stdout",
     "output_type": "stream",
     "text": [
      "root\n |-- rider_id: integer (nullable = true)\n |-- first_name: string (nullable = true)\n |-- last_name: string (nullable = true)\n |-- address: string (nullable = true)\n |-- birthday: date (nullable = true)\n |-- account_start_date: date (nullable = true)\n |-- account_end_date: date (nullable = true)\n |-- is_member: boolean (nullable = true)\n\n"
     ]
    }
   ],
   "source": [
    "info(spark.table(\"dim_rider\"))"
   ]
  },
  {
   "cell_type": "markdown",
   "metadata": {
    "application/vnd.databricks.v1+cell": {
     "cellMetadata": {
      "byteLimit": 2048000,
      "rowLimit": 10000
     },
     "inputWidgets": {},
     "nuid": "39d82a86-6867-4fef-8583-2d09e8be671c",
     "showTitle": false,
     "title": ""
    }
   },
   "source": [
    "### Station Dimension"
   ]
  },
  {
   "cell_type": "code",
   "execution_count": 0,
   "metadata": {
    "application/vnd.databricks.v1+cell": {
     "cellMetadata": {
      "byteLimit": 2048000,
      "rowLimit": 10000
     },
     "inputWidgets": {},
     "nuid": "b5de9089-fd0d-4d62-b399-2c0bf06dc3d8",
     "showTitle": false,
     "title": ""
    }
   },
   "outputs": [],
   "source": [
    "df_station_bronze = spark.table('station_bronze')"
   ]
  },
  {
   "cell_type": "code",
   "execution_count": 0,
   "metadata": {
    "application/vnd.databricks.v1+cell": {
     "cellMetadata": {
      "byteLimit": 2048000,
      "rowLimit": 10000
     },
     "inputWidgets": {},
     "nuid": "39c9f4ad-7941-4551-8898-c5bd3900ec1b",
     "showTitle": false,
     "title": ""
    }
   },
   "outputs": [],
   "source": [
    "# Create dim_station\n",
    "df_station_bronze.write.format(\"delta\").mode(\"overwrite\").saveAsTable(\"dim_station\")"
   ]
  },
  {
   "cell_type": "code",
   "execution_count": 0,
   "metadata": {
    "application/vnd.databricks.v1+cell": {
     "cellMetadata": {
      "byteLimit": 2048000,
      "rowLimit": 10000
     },
     "inputWidgets": {},
     "nuid": "b00ad585-6ef3-46c1-9abf-eb87e9bec51e",
     "showTitle": false,
     "title": ""
    }
   },
   "outputs": [
    {
     "output_type": "stream",
     "name": "stdout",
     "output_type": "stream",
     "text": [
      "<class 'pyspark.pandas.frame.DataFrame'>\nInt64Index: 838 entries, 0 to 837\nData columns (total 4 columns):\n #   Column      Non-Null Count  Dtype  \n---  ------      --------------  -----  \n 0   station_id  838 non-null    object \n 1   name        838 non-null    object \n 2   latitude    838 non-null    float64\n 3   longitude   838 non-null    float64\ndtypes: float64(2), object(2)"
     ]
    },
    {
     "output_type": "display_data",
     "data": {
      "text/html": [
       "<style scoped>\n",
       "  .table-result-container {\n",
       "    max-height: 300px;\n",
       "    overflow: auto;\n",
       "  }\n",
       "  table, th, td {\n",
       "    border: 1px solid black;\n",
       "    border-collapse: collapse;\n",
       "  }\n",
       "  th, td {\n",
       "    padding: 5px;\n",
       "  }\n",
       "  th {\n",
       "    text-align: left;\n",
       "  }\n",
       "</style><div class='table-result-container'><table class='table-result'><thead style='background-color: white'><tr><th>station_id</th><th>name</th><th>latitude</th><th>longitude</th></tr></thead><tbody><tr><td>525</td><td>Glenwood Ave & Touhy Ave</td><td>42.012701</td><td>-87.66605799999999</td></tr><tr><td>KA1503000012</td><td>Clark St & Lake St</td><td>41.88579466666667</td><td>-87.63110066666668</td></tr></tbody></table></div>"
      ]
     },
     "metadata": {
      "application/vnd.databricks.v1+output": {
       "addedWidgets": {},
       "aggData": [],
       "aggError": "",
       "aggOverflow": false,
       "aggSchema": [],
       "aggSeriesLimitReached": false,
       "aggType": "",
       "arguments": {},
       "columnCustomDisplayInfos": {},
       "data": [
        [
         "525",
         "Glenwood Ave & Touhy Ave",
         42.012701,
         -87.66605799999999
        ],
        [
         "KA1503000012",
         "Clark St & Lake St",
         41.88579466666667,
         -87.63110066666668
        ]
       ],
       "datasetInfos": [],
       "dbfsResultPath": null,
       "isJsonSchema": true,
       "metadata": {},
       "overflow": false,
       "plotOptions": {
        "customPlotOptions": {},
        "displayType": "table",
        "pivotAggregation": null,
        "pivotColumns": null,
        "xColumns": null,
        "yColumns": null
       },
       "removedWidgets": [],
       "schema": [
        {
         "metadata": "{}",
         "name": "station_id",
         "type": "\"string\""
        },
        {
         "metadata": "{}",
         "name": "name",
         "type": "\"string\""
        },
        {
         "metadata": "{}",
         "name": "latitude",
         "type": "\"double\""
        },
        {
         "metadata": "{}",
         "name": "longitude",
         "type": "\"double\""
        }
       ],
       "type": "table"
      }
     },
     "output_type": "display_data"
    },
    {
     "output_type": "stream",
     "name": "stdout",
     "output_type": "stream",
     "text": [
      "root\n |-- station_id: string (nullable = true)\n |-- name: string (nullable = true)\n |-- latitude: double (nullable = true)\n |-- longitude: double (nullable = true)\n\n"
     ]
    }
   ],
   "source": [
    "info(spark.table(\"dim_station\"))"
   ]
  },
  {
   "cell_type": "markdown",
   "metadata": {
    "application/vnd.databricks.v1+cell": {
     "cellMetadata": {
      "byteLimit": 2048000,
      "rowLimit": 10000
     },
     "inputWidgets": {},
     "nuid": "aa0a6cdd-6bf2-4a71-9d6a-db02ed437d3c",
     "showTitle": false,
     "title": ""
    }
   },
   "source": [
    "### Trip Fact"
   ]
  },
  {
   "cell_type": "code",
   "execution_count": 0,
   "metadata": {
    "application/vnd.databricks.v1+cell": {
     "cellMetadata": {
      "byteLimit": 2048000,
      "rowLimit": 10000
     },
     "inputWidgets": {},
     "nuid": "ca693699-0660-4e10-9b68-764fe375c099",
     "showTitle": false,
     "title": ""
    }
   },
   "outputs": [],
   "source": [
    "# Read\n",
    "df_trip_bronze = spark.table('trip_bronze')"
   ]
  },
  {
   "cell_type": "code",
   "execution_count": 0,
   "metadata": {
    "application/vnd.databricks.v1+cell": {
     "cellMetadata": {
      "byteLimit": 2048000,
      "rowLimit": 10000
     },
     "inputWidgets": {},
     "nuid": "da36b8c6-ef60-4606-85f0-ce6d9eeef0e4",
     "showTitle": false,
     "title": ""
    }
   },
   "outputs": [
    {
     "output_type": "stream",
     "name": "stdout",
     "output_type": "stream",
     "text": [
      "<class 'pyspark.pandas.frame.DataFrame'>\nInt64Index: 4584921 entries, 0 to 4584920\nData columns (total 7 columns):\n #   Column            Non-Null Count    Dtype         \n---  ------            --------------    -----         \n 0   trip_id           4584921 non-null  object        \n 1   rideable_type     4584921 non-null  object        \n 2   started_at        4584921 non-null  datetime64[ns]\n 3   ended_at          4584921 non-null  datetime64[ns]\n 4   start_station_id  4584921 non-null  object        \n 5   end_station_id    4584921 non-null  object        \n 6   rider_id          4584921 non-null  int32         \ndtypes: datetime64[ns](2), int32(1), object(4)"
     ]
    },
    {
     "output_type": "display_data",
     "data": {
      "text/html": [
       "<style scoped>\n",
       "  .table-result-container {\n",
       "    max-height: 300px;\n",
       "    overflow: auto;\n",
       "  }\n",
       "  table, th, td {\n",
       "    border: 1px solid black;\n",
       "    border-collapse: collapse;\n",
       "  }\n",
       "  th, td {\n",
       "    padding: 5px;\n",
       "  }\n",
       "  th {\n",
       "    text-align: left;\n",
       "  }\n",
       "</style><div class='table-result-container'><table class='table-result'><thead style='background-color: white'><tr><th>trip_id</th><th>rideable_type</th><th>started_at</th><th>ended_at</th><th>start_station_id</th><th>end_station_id</th><th>rider_id</th></tr></thead><tbody><tr><td>F6F309843C09CAAC</td><td>classic_bike</td><td>2021-09-02T18:36:00Z</td><td>2021-09-02T18:48:43Z</td><td>TA1306000026</td><td>TA1307000041</td><td>70456</td></tr><tr><td>BD496FA19316E89C</td><td>classic_bike</td><td>2021-09-02T17:23:28Z</td><td>2021-09-02T17:32:43Z</td><td>TA1306000026</td><td>TA1309000019</td><td>24732</td></tr></tbody></table></div>"
      ]
     },
     "metadata": {
      "application/vnd.databricks.v1+output": {
       "addedWidgets": {},
       "aggData": [],
       "aggError": "",
       "aggOverflow": false,
       "aggSchema": [],
       "aggSeriesLimitReached": false,
       "aggType": "",
       "arguments": {},
       "columnCustomDisplayInfos": {},
       "data": [
        [
         "F6F309843C09CAAC",
         "classic_bike",
         "2021-09-02T18:36:00Z",
         "2021-09-02T18:48:43Z",
         "TA1306000026",
         "TA1307000041",
         70456
        ],
        [
         "BD496FA19316E89C",
         "classic_bike",
         "2021-09-02T17:23:28Z",
         "2021-09-02T17:32:43Z",
         "TA1306000026",
         "TA1309000019",
         24732
        ]
       ],
       "datasetInfos": [],
       "dbfsResultPath": null,
       "isJsonSchema": true,
       "metadata": {},
       "overflow": false,
       "plotOptions": {
        "customPlotOptions": {},
        "displayType": "table",
        "pivotAggregation": null,
        "pivotColumns": null,
        "xColumns": null,
        "yColumns": null
       },
       "removedWidgets": [],
       "schema": [
        {
         "metadata": "{}",
         "name": "trip_id",
         "type": "\"string\""
        },
        {
         "metadata": "{}",
         "name": "rideable_type",
         "type": "\"string\""
        },
        {
         "metadata": "{}",
         "name": "started_at",
         "type": "\"timestamp\""
        },
        {
         "metadata": "{}",
         "name": "ended_at",
         "type": "\"timestamp\""
        },
        {
         "metadata": "{}",
         "name": "start_station_id",
         "type": "\"string\""
        },
        {
         "metadata": "{}",
         "name": "end_station_id",
         "type": "\"string\""
        },
        {
         "metadata": "{}",
         "name": "rider_id",
         "type": "\"integer\""
        }
       ],
       "type": "table"
      }
     },
     "output_type": "display_data"
    },
    {
     "output_type": "stream",
     "name": "stdout",
     "output_type": "stream",
     "text": [
      "root\n |-- trip_id: string (nullable = true)\n |-- rideable_type: string (nullable = true)\n |-- started_at: timestamp (nullable = true)\n |-- ended_at: timestamp (nullable = true)\n |-- start_station_id: string (nullable = true)\n |-- end_station_id: string (nullable = true)\n |-- rider_id: integer (nullable = true)\n\n"
     ]
    }
   ],
   "source": [
    "info(df_trip_bronze)"
   ]
  },
  {
   "cell_type": "code",
   "execution_count": 0,
   "metadata": {
    "application/vnd.databricks.v1+cell": {
     "cellMetadata": {
      "byteLimit": 2048000,
      "rowLimit": 10000
     },
     "inputWidgets": {},
     "nuid": "ec0f6e3e-3936-44e8-94b6-e036d04b3987",
     "showTitle": false,
     "title": ""
    }
   },
   "outputs": [],
   "source": [
    "query = \"\"\"\n",
    "SELECT\n",
    "  t.trip_id,\n",
    "  t.rider_id,\n",
    "  t.rideable_type,\n",
    "  t.started_at,\n",
    "  t.ended_at,\n",
    "  t.start_station_id,\n",
    "  t.end_station_id,\n",
    "  CAST(FLOOR(DATEDIFF(SECOND, t.started_at, t.ended_at) / 60) AS INT) AS duration,\n",
    "  CAST(FLOOR(MONTHS_BETWEEN(t.started_at, r.birthday) / 12) AS INT) AS rider_age\n",
    "FROM\n",
    "  trip_bronze t\n",
    "JOIN\n",
    "  dim_rider r\n",
    "ON\n",
    "  t.rider_id = r.rider_id;\n",
    "\"\"\"\n",
    "df_trip_gold = spark.sql(query)"
   ]
  },
  {
   "cell_type": "code",
   "execution_count": 0,
   "metadata": {
    "application/vnd.databricks.v1+cell": {
     "cellMetadata": {
      "byteLimit": 2048000,
      "rowLimit": 10000
     },
     "inputWidgets": {},
     "nuid": "aea49bc8-5b2a-4577-a4a2-924e2cee79d8",
     "showTitle": false,
     "title": ""
    }
   },
   "outputs": [],
   "source": [
    "# Create fact_trip\n",
    "df_trip_gold.write.format(\"delta\").mode(\"overwrite\").saveAsTable(\"fact_trip\")"
   ]
  },
  {
   "cell_type": "code",
   "execution_count": 0,
   "metadata": {
    "application/vnd.databricks.v1+cell": {
     "cellMetadata": {
      "byteLimit": 2048000,
      "rowLimit": 10000
     },
     "inputWidgets": {},
     "nuid": "81bc46fa-6f1a-4b70-946a-702ec39f339a",
     "showTitle": false,
     "title": ""
    }
   },
   "outputs": [
    {
     "output_type": "stream",
     "name": "stdout",
     "output_type": "stream",
     "text": [
      "<class 'pyspark.pandas.frame.DataFrame'>\nInt64Index: 4584921 entries, 0 to 4584920\nData columns (total 9 columns):\n #   Column            Non-Null Count    Dtype         \n---  ------            --------------    -----         \n 0   trip_id           4584921 non-null  object        \n 1   rider_id          4584921 non-null  int32         \n 2   rideable_type     4584921 non-null  object        \n 3   started_at        4584921 non-null  datetime64[ns]\n 4   ended_at          4584921 non-null  datetime64[ns]\n 5   start_station_id  4584921 non-null  object        \n 6   end_station_id    4584921 non-null  object        \n 7   duration          4584921 non-null  int32         \n 8   rider_age         4584921 non-null  int32         \ndtypes: datetime64[ns](2), int32(3), object(4)"
     ]
    },
    {
     "output_type": "display_data",
     "data": {
      "text/html": [
       "<style scoped>\n",
       "  .table-result-container {\n",
       "    max-height: 300px;\n",
       "    overflow: auto;\n",
       "  }\n",
       "  table, th, td {\n",
       "    border: 1px solid black;\n",
       "    border-collapse: collapse;\n",
       "  }\n",
       "  th, td {\n",
       "    padding: 5px;\n",
       "  }\n",
       "  th {\n",
       "    text-align: left;\n",
       "  }\n",
       "</style><div class='table-result-container'><table class='table-result'><thead style='background-color: white'><tr><th>trip_id</th><th>rider_id</th><th>rideable_type</th><th>started_at</th><th>ended_at</th><th>start_station_id</th><th>end_station_id</th><th>duration</th><th>rider_age</th></tr></thead><tbody><tr><td>222BB8E5059252D7</td><td>34062</td><td>classic_bike</td><td>2021-06-13T09:48:47Z</td><td>2021-06-13T10:07:23Z</td><td>KA1503000064</td><td>13021</td><td>18</td><td>30</td></tr><tr><td>1826E16CB5486018</td><td>5342</td><td>classic_bike</td><td>2021-06-21T22:59:13Z</td><td>2021-06-21T23:04:29Z</td><td>TA1306000010</td><td>13021</td><td>5</td><td>26</td></tr></tbody></table></div>"
      ]
     },
     "metadata": {
      "application/vnd.databricks.v1+output": {
       "addedWidgets": {},
       "aggData": [],
       "aggError": "",
       "aggOverflow": false,
       "aggSchema": [],
       "aggSeriesLimitReached": false,
       "aggType": "",
       "arguments": {},
       "columnCustomDisplayInfos": {},
       "data": [
        [
         "222BB8E5059252D7",
         34062,
         "classic_bike",
         "2021-06-13T09:48:47Z",
         "2021-06-13T10:07:23Z",
         "KA1503000064",
         "13021",
         18,
         30
        ],
        [
         "1826E16CB5486018",
         5342,
         "classic_bike",
         "2021-06-21T22:59:13Z",
         "2021-06-21T23:04:29Z",
         "TA1306000010",
         "13021",
         5,
         26
        ]
       ],
       "datasetInfos": [],
       "dbfsResultPath": null,
       "isJsonSchema": true,
       "metadata": {},
       "overflow": false,
       "plotOptions": {
        "customPlotOptions": {},
        "displayType": "table",
        "pivotAggregation": null,
        "pivotColumns": null,
        "xColumns": null,
        "yColumns": null
       },
       "removedWidgets": [],
       "schema": [
        {
         "metadata": "{}",
         "name": "trip_id",
         "type": "\"string\""
        },
        {
         "metadata": "{}",
         "name": "rider_id",
         "type": "\"integer\""
        },
        {
         "metadata": "{}",
         "name": "rideable_type",
         "type": "\"string\""
        },
        {
         "metadata": "{}",
         "name": "started_at",
         "type": "\"timestamp\""
        },
        {
         "metadata": "{}",
         "name": "ended_at",
         "type": "\"timestamp\""
        },
        {
         "metadata": "{}",
         "name": "start_station_id",
         "type": "\"string\""
        },
        {
         "metadata": "{}",
         "name": "end_station_id",
         "type": "\"string\""
        },
        {
         "metadata": "{}",
         "name": "duration",
         "type": "\"integer\""
        },
        {
         "metadata": "{}",
         "name": "rider_age",
         "type": "\"integer\""
        }
       ],
       "type": "table"
      }
     },
     "output_type": "display_data"
    },
    {
     "output_type": "stream",
     "name": "stdout",
     "output_type": "stream",
     "text": [
      "root\n |-- trip_id: string (nullable = true)\n |-- rider_id: integer (nullable = true)\n |-- rideable_type: string (nullable = true)\n |-- started_at: timestamp (nullable = true)\n |-- ended_at: timestamp (nullable = true)\n |-- start_station_id: string (nullable = true)\n |-- end_station_id: string (nullable = true)\n |-- duration: integer (nullable = true)\n |-- rider_age: integer (nullable = true)\n\n"
     ]
    }
   ],
   "source": [
    "info(spark.table('fact_trip'))"
   ]
  },
  {
   "cell_type": "markdown",
   "metadata": {
    "application/vnd.databricks.v1+cell": {
     "cellMetadata": {
      "byteLimit": 2048000,
      "rowLimit": 10000
     },
     "inputWidgets": {},
     "nuid": "d5bbd68e-2912-4c6a-8796-6f850e7144fb",
     "showTitle": false,
     "title": ""
    }
   },
   "source": []
  },
  {
   "cell_type": "markdown",
   "metadata": {
    "application/vnd.databricks.v1+cell": {
     "cellMetadata": {
      "byteLimit": 2048000,
      "rowLimit": 10000
     },
     "inputWidgets": {},
     "nuid": "8b1ccf1b-551e-44c2-8df5-0ee2be3623f9",
     "showTitle": false,
     "title": ""
    }
   },
   "source": [
    "### Date Dimension"
   ]
  },
  {
   "cell_type": "code",
   "execution_count": 0,
   "metadata": {
    "application/vnd.databricks.v1+cell": {
     "cellMetadata": {
      "byteLimit": 2048000,
      "rowLimit": 10000
     },
     "inputWidgets": {},
     "nuid": "c435b8de-3c80-4bb5-a284-3f00b3a38abc",
     "showTitle": false,
     "title": ""
    }
   },
   "outputs": [],
   "source": [
    "query=\"\"\"\n",
    "SELECT UUID() AS time_id,\n",
    "  started_at AS date,\n",
    "  dayofweek(started_at) day_of_week,\n",
    "  DATEPART('DAY', started_at) day_of_month,\n",
    "  DATEPART('WEEK', started_at) week_of_year,\n",
    "  DATEPART('QUARTER', started_at) quarter,\n",
    "  DATEPART('MONTH', started_at) month,\n",
    "  DATEPART('YEAR', started_at) year\n",
    "FROM trip_bronze\n",
    "WHERE started_at IS NOT NULL\n",
    "UNION\n",
    "SELECT UUID() AS time_id,\n",
    "  ended_at AS date,\n",
    "  dayofweek(ended_at) day_of_week,\n",
    "  DATEPART('DAY', ended_at) day_of_month,\n",
    "  DATEPART('WEEK', ended_at) week_of_year,\n",
    "  DATEPART('QUARTER', ended_at) quarter,\n",
    "  DATEPART('MONTH', ended_at) month,\n",
    "  DATEPART('YEAR', ended_at) year\n",
    "FROM trip_bronze\n",
    "WHERE ended_at IS NOT NULL\n",
    "UNION\n",
    "SELECT UUID() AS time_id,\n",
    "  birthdate AS date,\n",
    "  dayofweek(birthdate) day_of_week,\n",
    "  DATEPART('DAY', birthdate) day_of_month,\n",
    "  DATEPART('WEEK', birthdate) week_of_year,\n",
    "  DATEPART('QUARTER', birthdate) quarter,\n",
    "  DATEPART('MONTH', birthdate) month,\n",
    "  DATEPART('YEAR', birthdate) year\n",
    "FROM rider_bronze\n",
    "WHERE birthdate IS NOT NULL\n",
    "UNION\n",
    "SELECT UUID() AS time_id,\n",
    "  account_start_date AS date,\n",
    "  dayofweek(account_start_date) day_of_week,\n",
    "  DATEPART('DAY', account_start_date) day_of_month,\n",
    "  DATEPART('WEEK', account_start_date) week_of_year,\n",
    "  DATEPART('QUARTER', account_start_date) quarter,\n",
    "  DATEPART('MONTH', account_start_date) month,\n",
    "  DATEPART('YEAR', account_start_date) year\n",
    "FROM rider_bronze\n",
    "WHERE account_start_date IS NOT NULL\n",
    "UNION\n",
    "SELECT UUID() AS time_id,\n",
    "  account_end_date AS date,\n",
    "  dayofweek(account_end_date) day_of_week,\n",
    "  DATEPART('DAY', account_end_date) day_of_month,\n",
    "  DATEPART('WEEK', account_end_date) week_of_year,\n",
    "  DATEPART('QUARTER', account_end_date) quarter,\n",
    "  DATEPART('MONTH', account_end_date) month,\n",
    "  DATEPART('YEAR', account_end_date) year\n",
    "FROM rider_bronze\n",
    "WHERE account_end_date IS NOT NULL\n",
    "UNION\n",
    "SELECT UUID() AS time_id,\n",
    "  date,\n",
    "  dayofweek(date) day_of_week,\n",
    "  DATEPART('DAY', date) day_of_month,\n",
    "  DATEPART('WEEK', date) week_of_year,\n",
    "  DATEPART('QUARTER', date) quarter,\n",
    "  DATEPART('MONTH', date) month,\n",
    "  DATEPART('YEAR', date) year\n",
    "FROM payment_bronze\n",
    "WHERE date IS NOT NULL\n",
    "\"\"\""
   ]
  },
  {
   "cell_type": "code",
   "execution_count": 0,
   "metadata": {
    "application/vnd.databricks.v1+cell": {
     "cellMetadata": {
      "byteLimit": 2048000,
      "rowLimit": 10000
     },
     "inputWidgets": {},
     "nuid": "6baf6625-b570-4c3b-8e37-2a91f36bf9bf",
     "showTitle": false,
     "title": ""
    }
   },
   "outputs": [],
   "source": [
    "df_dim_date = spark.sql(query)"
   ]
  },
  {
   "cell_type": "code",
   "execution_count": 0,
   "metadata": {
    "application/vnd.databricks.v1+cell": {
     "cellMetadata": {
      "byteLimit": 2048000,
      "rowLimit": 10000
     },
     "inputWidgets": {},
     "nuid": "d749dad7-52ff-490e-9f9e-9209a9196f48",
     "showTitle": false,
     "title": ""
    }
   },
   "outputs": [],
   "source": [
    "# Create dim_date\n",
    "df_dim_date.write.format(\"delta\").mode(\"overwrite\").saveAsTable(\"dim_date\")"
   ]
  },
  {
   "cell_type": "code",
   "execution_count": 0,
   "metadata": {
    "application/vnd.databricks.v1+cell": {
     "cellMetadata": {
      "byteLimit": 2048000,
      "rowLimit": 10000
     },
     "inputWidgets": {},
     "nuid": "831a943f-2646-4956-be58-431bbb6045d7",
     "showTitle": false,
     "title": ""
    }
   },
   "outputs": [
    {
     "output_type": "stream",
     "name": "stdout",
     "output_type": "stream",
     "text": [
      "<class 'pyspark.pandas.frame.DataFrame'>\nInt64Index: 11281403 entries, 0 to 11281402\nData columns (total 8 columns):\n #   Column        Non-Null Count     Dtype         \n---  ------        --------------     -----         \n 0   time_id       11281403 non-null  object        \n 1   date          11281403 non-null  datetime64[ns]\n 2   day_of_week   11281403 non-null  int32         \n 3   day_of_month  11281403 non-null  int32         \n 4   week_of_year  11281403 non-null  int32         \n 5   quarter       11281403 non-null  int32         \n 6   month         11281403 non-null  int32         \n 7   year          11281403 non-null  int32         \ndtypes: datetime64[ns](1), int32(6), object(1)"
     ]
    },
    {
     "output_type": "display_data",
     "data": {
      "text/html": [
       "<style scoped>\n",
       "  .table-result-container {\n",
       "    max-height: 300px;\n",
       "    overflow: auto;\n",
       "  }\n",
       "  table, th, td {\n",
       "    border: 1px solid black;\n",
       "    border-collapse: collapse;\n",
       "  }\n",
       "  th, td {\n",
       "    padding: 5px;\n",
       "  }\n",
       "  th {\n",
       "    text-align: left;\n",
       "  }\n",
       "</style><div class='table-result-container'><table class='table-result'><thead style='background-color: white'><tr><th>time_id</th><th>date</th><th>day_of_week</th><th>day_of_month</th><th>week_of_year</th><th>quarter</th><th>month</th><th>year</th></tr></thead><tbody><tr><td>9b7a9ebc-195a-4485-ad4c-83502953f95f</td><td>2021-06-09T23:07:47Z</td><td>4</td><td>9</td><td>23</td><td>2</td><td>6</td><td>2021</td></tr><tr><td>4990e300-2fc4-467d-b40a-c7d9c3d54ed9</td><td>2021-06-12T18:40:57Z</td><td>7</td><td>12</td><td>23</td><td>2</td><td>6</td><td>2021</td></tr></tbody></table></div>"
      ]
     },
     "metadata": {
      "application/vnd.databricks.v1+output": {
       "addedWidgets": {},
       "aggData": [],
       "aggError": "",
       "aggOverflow": false,
       "aggSchema": [],
       "aggSeriesLimitReached": false,
       "aggType": "",
       "arguments": {},
       "columnCustomDisplayInfos": {},
       "data": [
        [
         "9b7a9ebc-195a-4485-ad4c-83502953f95f",
         "2021-06-09T23:07:47Z",
         4,
         9,
         23,
         2,
         6,
         2021
        ],
        [
         "4990e300-2fc4-467d-b40a-c7d9c3d54ed9",
         "2021-06-12T18:40:57Z",
         7,
         12,
         23,
         2,
         6,
         2021
        ]
       ],
       "datasetInfos": [],
       "dbfsResultPath": null,
       "isJsonSchema": true,
       "metadata": {},
       "overflow": false,
       "plotOptions": {
        "customPlotOptions": {},
        "displayType": "table",
        "pivotAggregation": null,
        "pivotColumns": null,
        "xColumns": null,
        "yColumns": null
       },
       "removedWidgets": [],
       "schema": [
        {
         "metadata": "{}",
         "name": "time_id",
         "type": "\"string\""
        },
        {
         "metadata": "{}",
         "name": "date",
         "type": "\"timestamp\""
        },
        {
         "metadata": "{}",
         "name": "day_of_week",
         "type": "\"integer\""
        },
        {
         "metadata": "{}",
         "name": "day_of_month",
         "type": "\"integer\""
        },
        {
         "metadata": "{}",
         "name": "week_of_year",
         "type": "\"integer\""
        },
        {
         "metadata": "{}",
         "name": "quarter",
         "type": "\"integer\""
        },
        {
         "metadata": "{}",
         "name": "month",
         "type": "\"integer\""
        },
        {
         "metadata": "{}",
         "name": "year",
         "type": "\"integer\""
        }
       ],
       "type": "table"
      }
     },
     "output_type": "display_data"
    },
    {
     "output_type": "stream",
     "name": "stdout",
     "output_type": "stream",
     "text": [
      "root\n |-- time_id: string (nullable = true)\n |-- date: timestamp (nullable = true)\n |-- day_of_week: integer (nullable = true)\n |-- day_of_month: integer (nullable = true)\n |-- week_of_year: integer (nullable = true)\n |-- quarter: integer (nullable = true)\n |-- month: integer (nullable = true)\n |-- year: integer (nullable = true)\n\n"
     ]
    }
   ],
   "source": [
    "info(spark.table('dim_date'))"
   ]
  }
 ],
 "metadata": {
  "application/vnd.databricks.v1+notebook": {
   "dashboards": [],
   "language": "python",
   "notebookMetadata": {
    "pythonIndentUnit": 4
   },
   "notebookName": "transform",
   "widgets": {}
  }
 },
 "nbformat": 4,
 "nbformat_minor": 0
}
