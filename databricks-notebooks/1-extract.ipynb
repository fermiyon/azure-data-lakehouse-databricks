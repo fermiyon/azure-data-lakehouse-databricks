{
 "cells": [
  {
   "cell_type": "markdown",
   "metadata": {
    "application/vnd.databricks.v1+cell": {
     "cellMetadata": {},
     "inputWidgets": {},
     "nuid": "d7b278ca-9922-42d4-a544-1ad81407c8c7",
     "showTitle": false,
     "title": ""
    }
   },
   "source": [
    "## Azure Databricks: Extract the data using Spark"
   ]
  },
  {
   "cell_type": "markdown",
   "metadata": {
    "application/vnd.databricks.v1+cell": {
     "cellMetadata": {},
     "inputWidgets": {},
     "nuid": "c41b9211-fbcb-4fe7-9711-b2feb2830787",
     "showTitle": false,
     "title": ""
    }
   },
   "source": [
    "By Selman Karaosmanoglu"
   ]
  },
  {
   "cell_type": "markdown",
   "metadata": {
    "application/vnd.databricks.v1+cell": {
     "cellMetadata": {
      "byteLimit": 2048000,
      "rowLimit": 10000
     },
     "inputWidgets": {},
     "nuid": "59b4cd71-f4b0-48b0-8f8c-a59d4eb6325a",
     "showTitle": false,
     "title": ""
    }
   },
   "source": [
    "### Read Payment"
   ]
  },
  {
   "cell_type": "code",
   "execution_count": 0,
   "metadata": {
    "application/vnd.databricks.v1+cell": {
     "cellMetadata": {
      "byteLimit": 2048000,
      "rowLimit": 10000
     },
     "inputWidgets": {},
     "nuid": "8f9f1315-a03e-4949-b4ba-27bf8798947c",
     "showTitle": false,
     "title": ""
    }
   },
   "outputs": [],
   "source": [
    "df_payment = spark.read.csv(\"dbfs:/FileStore/data/payments.csv\", header=False, inferSchema=True).toDF(\"payment_id\", \"date\", \"amount\", \"rider_id\")"
   ]
  },
  {
   "cell_type": "code",
   "execution_count": 0,
   "metadata": {
    "application/vnd.databricks.v1+cell": {
     "cellMetadata": {
      "byteLimit": 2048000,
      "rowLimit": 10000
     },
     "inputWidgets": {},
     "nuid": "d538d630-a070-43e7-b9c2-9e58b9582088",
     "showTitle": false,
     "title": ""
    }
   },
   "outputs": [
    {
     "output_type": "stream",
     "name": "stdout",
     "output_type": "stream",
     "text": [
      "root\n |-- payment_id: integer (nullable = true)\n |-- date: date (nullable = true)\n |-- amount: double (nullable = true)\n |-- rider_id: integer (nullable = true)\n\n"
     ]
    }
   ],
   "source": [
    "df_payment.printSchema()"
   ]
  },
  {
   "cell_type": "code",
   "execution_count": 0,
   "metadata": {
    "application/vnd.databricks.v1+cell": {
     "cellMetadata": {
      "byteLimit": 2048000,
      "rowLimit": 10000
     },
     "inputWidgets": {},
     "nuid": "27d9ea9c-cf19-40a8-a7c7-8883ea934efb",
     "showTitle": false,
     "title": ""
    }
   },
   "outputs": [
    {
     "output_type": "stream",
     "name": "stdout",
     "output_type": "stream",
     "text": [
      "+-------+-----------------+------------------+-----------------+\n|summary|       payment_id|            amount|         rider_id|\n+-------+-----------------+------------------+-----------------+\n|  count|          1946607|           1946607|          1946607|\n|   mean|         973304.0|  9.99539467904919|38575.52808296693|\n| stddev|561937.1820657537|3.4687957778018923|21674.45772403217|\n|    min|                1|               3.0|             1000|\n|    max|          1946607|              25.0|            75999|\n+-------+-----------------+------------------+-----------------+\n\n"
     ]
    }
   ],
   "source": [
    "df_payment.describe().show()"
   ]
  },
  {
   "cell_type": "code",
   "execution_count": 0,
   "metadata": {
    "application/vnd.databricks.v1+cell": {
     "cellMetadata": {
      "byteLimit": 2048000,
      "rowLimit": 10000
     },
     "inputWidgets": {},
     "nuid": "4442edba-c6df-4c5d-b262-c7722486b63c",
     "showTitle": false,
     "title": ""
    }
   },
   "outputs": [
    {
     "output_type": "stream",
     "name": "stdout",
     "output_type": "stream",
     "text": [
      "<class 'pyspark.pandas.frame.DataFrame'>\nInt64Index: 1946607 entries, 0 to 1946606\nData columns (total 4 columns):\n #   Column      Non-Null Count    Dtype  \n---  ------      --------------    -----  \n 0   payment_id  1946607 non-null  int32  \n 1   date        1946607 non-null  object \n 2   amount      1946607 non-null  float64\n 3   rider_id    1946607 non-null  int32  \ndtypes: float64(1), int32(2), object(1)"
     ]
    }
   ],
   "source": [
    "df_payment.pandas_api().info()"
   ]
  },
  {
   "cell_type": "code",
   "execution_count": 0,
   "metadata": {
    "application/vnd.databricks.v1+cell": {
     "cellMetadata": {
      "byteLimit": 2048000,
      "rowLimit": 10000
     },
     "inputWidgets": {},
     "nuid": "126620a7-53ba-415a-9acb-f2c95a225eef",
     "showTitle": false,
     "title": ""
    }
   },
   "outputs": [
    {
     "output_type": "execute_result",
     "data": {
      "text/html": [
       "<div>\n",
       "<style scoped>\n",
       "    .dataframe tbody tr th:only-of-type {\n",
       "        vertical-align: middle;\n",
       "    }\n",
       "\n",
       "    .dataframe tbody tr th {\n",
       "        vertical-align: top;\n",
       "    }\n",
       "\n",
       "    .dataframe thead th {\n",
       "        text-align: right;\n",
       "    }\n",
       "</style>\n",
       "<table border=\"1\" class=\"dataframe\">\n",
       "  <thead>\n",
       "    <tr style=\"text-align: right;\">\n",
       "      <th></th>\n",
       "      <th>payment_id</th>\n",
       "      <th>date</th>\n",
       "      <th>amount</th>\n",
       "      <th>rider_id</th>\n",
       "    </tr>\n",
       "  </thead>\n",
       "  <tbody>\n",
       "    <tr>\n",
       "      <th>0</th>\n",
       "      <td>1</td>\n",
       "      <td>2019-05-01</td>\n",
       "      <td>9.0</td>\n",
       "      <td>1000</td>\n",
       "    </tr>\n",
       "    <tr>\n",
       "      <th>1</th>\n",
       "      <td>2</td>\n",
       "      <td>2019-06-01</td>\n",
       "      <td>9.0</td>\n",
       "      <td>1000</td>\n",
       "    </tr>\n",
       "    <tr>\n",
       "      <th>2</th>\n",
       "      <td>3</td>\n",
       "      <td>2019-07-01</td>\n",
       "      <td>9.0</td>\n",
       "      <td>1000</td>\n",
       "    </tr>\n",
       "    <tr>\n",
       "      <th>3</th>\n",
       "      <td>4</td>\n",
       "      <td>2019-08-01</td>\n",
       "      <td>9.0</td>\n",
       "      <td>1000</td>\n",
       "    </tr>\n",
       "    <tr>\n",
       "      <th>4</th>\n",
       "      <td>5</td>\n",
       "      <td>2019-09-01</td>\n",
       "      <td>9.0</td>\n",
       "      <td>1000</td>\n",
       "    </tr>\n",
       "  </tbody>\n",
       "</table>\n",
       "</div>"
      ],
      "text/plain": [
       "   payment_id        date  amount  rider_id\n",
       "0           1  2019-05-01     9.0      1000\n",
       "1           2  2019-06-01     9.0      1000\n",
       "2           3  2019-07-01     9.0      1000\n",
       "3           4  2019-08-01     9.0      1000\n",
       "4           5  2019-09-01     9.0      1000"
      ]
     },
     "execution_count": 5,
     "metadata": {},
     "output_type": "execute_result"
    }
   ],
   "source": [
    "df_payment.pandas_api().head()"
   ]
  },
  {
   "cell_type": "markdown",
   "metadata": {
    "application/vnd.databricks.v1+cell": {
     "cellMetadata": {
      "byteLimit": 2048000,
      "rowLimit": 10000
     },
     "inputWidgets": {},
     "nuid": "4f2fffa9-ee9b-4aa9-80d0-26478e686e77",
     "showTitle": false,
     "title": ""
    }
   },
   "source": [
    "### Read Riders"
   ]
  },
  {
   "cell_type": "code",
   "execution_count": 0,
   "metadata": {
    "application/vnd.databricks.v1+cell": {
     "cellMetadata": {
      "byteLimit": 2048000,
      "rowLimit": 10000
     },
     "inputWidgets": {},
     "nuid": "c0d46be2-9e2b-4e9e-8fbe-3444f2201a54",
     "showTitle": false,
     "title": ""
    }
   },
   "outputs": [],
   "source": [
    "df_rider = spark.read.csv('dbfs:/FileStore/data/riders.csv', header=False, inferSchema=True).toDF('rider_id', 'first_name', 'last_name', 'address', 'birthdate','account_start_date','account_end_date','is_member')"
   ]
  },
  {
   "cell_type": "code",
   "execution_count": 0,
   "metadata": {
    "application/vnd.databricks.v1+cell": {
     "cellMetadata": {
      "byteLimit": 2048000,
      "rowLimit": 10000
     },
     "inputWidgets": {},
     "nuid": "2a48ae69-f3a8-4816-88ae-e9ff2c0deb4e",
     "showTitle": false,
     "title": ""
    }
   },
   "outputs": [
    {
     "output_type": "stream",
     "name": "stdout",
     "output_type": "stream",
     "text": [
      "<class 'pyspark.pandas.frame.DataFrame'>\nInt64Index: 75000 entries, 0 to 74999\nData columns (total 8 columns):\n #   Column              Non-Null Count  Dtype \n---  ------              --------------  ----- \n 0   rider_id            75000 non-null  int32 \n 1   first_name          75000 non-null  object\n 2   last_name           75000 non-null  object\n 3   address             75000 non-null  object\n 4   birthdate           75000 non-null  object\n 5   account_start_date  75000 non-null  object\n 6   account_end_date    14954 non-null  object\n 7   is_member           75000 non-null  bool  \ndtypes: bool(1), int32(1), object(6)"
     ]
    }
   ],
   "source": [
    "df_rider.pandas_api().info()"
   ]
  },
  {
   "cell_type": "code",
   "execution_count": 0,
   "metadata": {
    "application/vnd.databricks.v1+cell": {
     "cellMetadata": {
      "byteLimit": 2048000,
      "rowLimit": 10000
     },
     "inputWidgets": {},
     "nuid": "30cd4b4e-e348-49d0-9bcd-0598b201eee4",
     "showTitle": false,
     "title": ""
    }
   },
   "outputs": [
    {
     "output_type": "execute_result",
     "data": {
      "text/html": [
       "<div>\n",
       "<style scoped>\n",
       "    .dataframe tbody tr th:only-of-type {\n",
       "        vertical-align: middle;\n",
       "    }\n",
       "\n",
       "    .dataframe tbody tr th {\n",
       "        vertical-align: top;\n",
       "    }\n",
       "\n",
       "    .dataframe thead th {\n",
       "        text-align: right;\n",
       "    }\n",
       "</style>\n",
       "<table border=\"1\" class=\"dataframe\">\n",
       "  <thead>\n",
       "    <tr style=\"text-align: right;\">\n",
       "      <th></th>\n",
       "      <th>rider_id</th>\n",
       "      <th>first_name</th>\n",
       "      <th>last_name</th>\n",
       "      <th>address</th>\n",
       "      <th>birthdate</th>\n",
       "      <th>account_start_date</th>\n",
       "      <th>account_end_date</th>\n",
       "      <th>is_member</th>\n",
       "    </tr>\n",
       "  </thead>\n",
       "  <tbody>\n",
       "    <tr>\n",
       "      <th>0</th>\n",
       "      <td>1000</td>\n",
       "      <td>Diana</td>\n",
       "      <td>Clark</td>\n",
       "      <td>1200 Alyssa Squares</td>\n",
       "      <td>1989-02-13</td>\n",
       "      <td>2019-04-23</td>\n",
       "      <td>None</td>\n",
       "      <td>True</td>\n",
       "    </tr>\n",
       "    <tr>\n",
       "      <th>1</th>\n",
       "      <td>1001</td>\n",
       "      <td>Jennifer</td>\n",
       "      <td>Smith</td>\n",
       "      <td>397 Diana Ferry</td>\n",
       "      <td>1976-08-10</td>\n",
       "      <td>2019-11-01</td>\n",
       "      <td>2020-09-01</td>\n",
       "      <td>True</td>\n",
       "    </tr>\n",
       "    <tr>\n",
       "      <th>2</th>\n",
       "      <td>1002</td>\n",
       "      <td>Karen</td>\n",
       "      <td>Smith</td>\n",
       "      <td>644 Brittany Row Apt. 097</td>\n",
       "      <td>1998-08-10</td>\n",
       "      <td>2022-02-04</td>\n",
       "      <td>None</td>\n",
       "      <td>True</td>\n",
       "    </tr>\n",
       "    <tr>\n",
       "      <th>3</th>\n",
       "      <td>1003</td>\n",
       "      <td>Bryan</td>\n",
       "      <td>Roberts</td>\n",
       "      <td>996 Dickerson Turnpike</td>\n",
       "      <td>1999-03-29</td>\n",
       "      <td>2019-08-26</td>\n",
       "      <td>None</td>\n",
       "      <td>False</td>\n",
       "    </tr>\n",
       "    <tr>\n",
       "      <th>4</th>\n",
       "      <td>1004</td>\n",
       "      <td>Jesse</td>\n",
       "      <td>Middleton</td>\n",
       "      <td>7009 Nathan Expressway</td>\n",
       "      <td>1969-04-11</td>\n",
       "      <td>2019-09-14</td>\n",
       "      <td>None</td>\n",
       "      <td>True</td>\n",
       "    </tr>\n",
       "  </tbody>\n",
       "</table>\n",
       "</div>"
      ],
      "text/plain": [
       "   rider_id first_name  last_name                    address   birthdate account_start_date account_end_date  is_member\n",
       "0      1000      Diana      Clark        1200 Alyssa Squares  1989-02-13         2019-04-23             None       True\n",
       "1      1001   Jennifer      Smith            397 Diana Ferry  1976-08-10         2019-11-01       2020-09-01       True\n",
       "2      1002      Karen      Smith  644 Brittany Row Apt. 097  1998-08-10         2022-02-04             None       True\n",
       "3      1003      Bryan    Roberts     996 Dickerson Turnpike  1999-03-29         2019-08-26             None      False\n",
       "4      1004      Jesse  Middleton     7009 Nathan Expressway  1969-04-11         2019-09-14             None       True"
      ]
     },
     "execution_count": 8,
     "metadata": {},
     "output_type": "execute_result"
    }
   ],
   "source": [
    "df_rider.pandas_api().head()"
   ]
  },
  {
   "cell_type": "markdown",
   "metadata": {
    "application/vnd.databricks.v1+cell": {
     "cellMetadata": {
      "byteLimit": 2048000,
      "rowLimit": 10000
     },
     "inputWidgets": {},
     "nuid": "7b78f527-6a95-47b6-80c2-6128fdc17e06",
     "showTitle": false,
     "title": ""
    }
   },
   "source": [
    "### Read Stations"
   ]
  },
  {
   "cell_type": "code",
   "execution_count": 0,
   "metadata": {
    "application/vnd.databricks.v1+cell": {
     "cellMetadata": {
      "byteLimit": 2048000,
      "rowLimit": 10000
     },
     "inputWidgets": {},
     "nuid": "0b63aa9a-ac3c-4c34-9d3b-6015a487f6f8",
     "showTitle": false,
     "title": ""
    }
   },
   "outputs": [],
   "source": [
    "df_station = spark.read.csv('dbfs:/FileStore/data/stations.csv', header=False, inferSchema=True).toDF('station_id', 'name', 'latitude', 'longitude')"
   ]
  },
  {
   "cell_type": "code",
   "execution_count": 0,
   "metadata": {
    "application/vnd.databricks.v1+cell": {
     "cellMetadata": {
      "byteLimit": 2048000,
      "rowLimit": 10000
     },
     "inputWidgets": {},
     "nuid": "29ee9cc8-5d40-406a-87f8-77624617c9b6",
     "showTitle": false,
     "title": ""
    }
   },
   "outputs": [
    {
     "output_type": "stream",
     "name": "stdout",
     "output_type": "stream",
     "text": [
      "<class 'pyspark.pandas.frame.DataFrame'>\nInt64Index: 838 entries, 0 to 837\nData columns (total 4 columns):\n #   Column      Non-Null Count  Dtype  \n---  ------      --------------  -----  \n 0   station_id  838 non-null    object \n 1   name        838 non-null    object \n 2   latitude    838 non-null    float64\n 3   longitude   838 non-null    float64\ndtypes: float64(2), object(2)"
     ]
    }
   ],
   "source": [
    "df_station.pandas_api().info()"
   ]
  },
  {
   "cell_type": "code",
   "execution_count": 0,
   "metadata": {
    "application/vnd.databricks.v1+cell": {
     "cellMetadata": {
      "byteLimit": 2048000,
      "rowLimit": 10000
     },
     "inputWidgets": {},
     "nuid": "6756f3c1-a1d1-43fc-b629-91149a10f35e",
     "showTitle": false,
     "title": ""
    }
   },
   "outputs": [
    {
     "output_type": "execute_result",
     "data": {
      "text/html": [
       "<div>\n",
       "<style scoped>\n",
       "    .dataframe tbody tr th:only-of-type {\n",
       "        vertical-align: middle;\n",
       "    }\n",
       "\n",
       "    .dataframe tbody tr th {\n",
       "        vertical-align: top;\n",
       "    }\n",
       "\n",
       "    .dataframe thead th {\n",
       "        text-align: right;\n",
       "    }\n",
       "</style>\n",
       "<table border=\"1\" class=\"dataframe\">\n",
       "  <thead>\n",
       "    <tr style=\"text-align: right;\">\n",
       "      <th></th>\n",
       "      <th>station_id</th>\n",
       "      <th>name</th>\n",
       "      <th>latitude</th>\n",
       "      <th>longitude</th>\n",
       "    </tr>\n",
       "  </thead>\n",
       "  <tbody>\n",
       "    <tr>\n",
       "      <th>0</th>\n",
       "      <td>525</td>\n",
       "      <td>Glenwood Ave &amp; Touhy Ave</td>\n",
       "      <td>42.012701</td>\n",
       "      <td>-87.666058</td>\n",
       "    </tr>\n",
       "    <tr>\n",
       "      <th>1</th>\n",
       "      <td>KA1503000012</td>\n",
       "      <td>Clark St &amp; Lake St</td>\n",
       "      <td>41.885795</td>\n",
       "      <td>-87.631101</td>\n",
       "    </tr>\n",
       "    <tr>\n",
       "      <th>2</th>\n",
       "      <td>637</td>\n",
       "      <td>Wood St &amp; Chicago Ave</td>\n",
       "      <td>41.895634</td>\n",
       "      <td>-87.672069</td>\n",
       "    </tr>\n",
       "    <tr>\n",
       "      <th>3</th>\n",
       "      <td>13216</td>\n",
       "      <td>State St &amp; 33rd St</td>\n",
       "      <td>41.834733</td>\n",
       "      <td>-87.625827</td>\n",
       "    </tr>\n",
       "    <tr>\n",
       "      <th>4</th>\n",
       "      <td>18003</td>\n",
       "      <td>Fairbanks St &amp; Superior St</td>\n",
       "      <td>41.895808</td>\n",
       "      <td>-87.620253</td>\n",
       "    </tr>\n",
       "  </tbody>\n",
       "</table>\n",
       "</div>"
      ],
      "text/plain": [
       "     station_id                        name   latitude  longitude\n",
       "0           525    Glenwood Ave & Touhy Ave  42.012701 -87.666058\n",
       "1  KA1503000012          Clark St & Lake St  41.885795 -87.631101\n",
       "2           637       Wood St & Chicago Ave  41.895634 -87.672069\n",
       "3         13216          State St & 33rd St  41.834733 -87.625827\n",
       "4         18003  Fairbanks St & Superior St  41.895808 -87.620253"
      ]
     },
     "execution_count": 11,
     "metadata": {},
     "output_type": "execute_result"
    }
   ],
   "source": [
    "df_station.pandas_api().head()"
   ]
  },
  {
   "cell_type": "markdown",
   "metadata": {
    "application/vnd.databricks.v1+cell": {
     "cellMetadata": {
      "byteLimit": 2048000,
      "rowLimit": 10000
     },
     "inputWidgets": {},
     "nuid": "7c87d3aa-31d4-43a0-b367-34985acd7295",
     "showTitle": false,
     "title": ""
    }
   },
   "source": [
    "### Read Trips"
   ]
  },
  {
   "cell_type": "code",
   "execution_count": 0,
   "metadata": {
    "application/vnd.databricks.v1+cell": {
     "cellMetadata": {
      "byteLimit": 2048000,
      "rowLimit": 10000
     },
     "inputWidgets": {},
     "nuid": "2828c713-f8f9-40ea-92cf-c1a1fc955936",
     "showTitle": false,
     "title": ""
    }
   },
   "outputs": [],
   "source": [
    "df_trip = spark.read.csv('dbfs:/FileStore/data/trips.csv', header=False, inferSchema=True).toDF('trip_id','rideable_type','started_at','ended_at','start_station_id','end_station_id','rider_id')"
   ]
  },
  {
   "cell_type": "code",
   "execution_count": 0,
   "metadata": {
    "application/vnd.databricks.v1+cell": {
     "cellMetadata": {
      "byteLimit": 2048000,
      "rowLimit": 10000
     },
     "inputWidgets": {},
     "nuid": "e4450208-e900-4493-86ff-cb4ed37f3221",
     "showTitle": false,
     "title": ""
    }
   },
   "outputs": [
    {
     "output_type": "stream",
     "name": "stdout",
     "output_type": "stream",
     "text": [
      "<class 'pyspark.pandas.frame.DataFrame'>\nInt64Index: 4584921 entries, 0 to 4584920\nData columns (total 7 columns):\n #   Column            Non-Null Count    Dtype         \n---  ------            --------------    -----         \n 0   trip_id           4584921 non-null  object        \n 1   rideable_type     4584921 non-null  object        \n 2   started_at        4584921 non-null  datetime64[ns]\n 3   ended_at          4584921 non-null  datetime64[ns]\n 4   start_station_id  4584921 non-null  object        \n 5   end_station_id    4584921 non-null  object        \n 6   rider_id          4584921 non-null  int32         \ndtypes: datetime64[ns](2), int32(1), object(4)"
     ]
    }
   ],
   "source": [
    "df_trip.pandas_api().info()"
   ]
  },
  {
   "cell_type": "code",
   "execution_count": 0,
   "metadata": {
    "application/vnd.databricks.v1+cell": {
     "cellMetadata": {
      "byteLimit": 2048000,
      "rowLimit": 10000
     },
     "inputWidgets": {},
     "nuid": "6ca5c112-d6e7-4c26-978b-672b818471a2",
     "showTitle": false,
     "title": ""
    }
   },
   "outputs": [
    {
     "output_type": "execute_result",
     "data": {
      "text/html": [
       "<div>\n",
       "<style scoped>\n",
       "    .dataframe tbody tr th:only-of-type {\n",
       "        vertical-align: middle;\n",
       "    }\n",
       "\n",
       "    .dataframe tbody tr th {\n",
       "        vertical-align: top;\n",
       "    }\n",
       "\n",
       "    .dataframe thead th {\n",
       "        text-align: right;\n",
       "    }\n",
       "</style>\n",
       "<table border=\"1\" class=\"dataframe\">\n",
       "  <thead>\n",
       "    <tr style=\"text-align: right;\">\n",
       "      <th></th>\n",
       "      <th>trip_id</th>\n",
       "      <th>rideable_type</th>\n",
       "      <th>started_at</th>\n",
       "      <th>ended_at</th>\n",
       "      <th>start_station_id</th>\n",
       "      <th>end_station_id</th>\n",
       "      <th>rider_id</th>\n",
       "    </tr>\n",
       "  </thead>\n",
       "  <tbody>\n",
       "    <tr>\n",
       "      <th>0</th>\n",
       "      <td>89E7AA6C29227EFF</td>\n",
       "      <td>classic_bike</td>\n",
       "      <td>2021-02-12 16:14:56</td>\n",
       "      <td>2021-02-12 16:21:43</td>\n",
       "      <td>525</td>\n",
       "      <td>660</td>\n",
       "      <td>71934</td>\n",
       "    </tr>\n",
       "    <tr>\n",
       "      <th>1</th>\n",
       "      <td>0FEFDE2603568365</td>\n",
       "      <td>classic_bike</td>\n",
       "      <td>2021-02-14 17:52:38</td>\n",
       "      <td>2021-02-14 18:12:09</td>\n",
       "      <td>525</td>\n",
       "      <td>16806</td>\n",
       "      <td>47854</td>\n",
       "    </tr>\n",
       "    <tr>\n",
       "      <th>2</th>\n",
       "      <td>E6159D746B2DBB91</td>\n",
       "      <td>electric_bike</td>\n",
       "      <td>2021-02-09 19:10:18</td>\n",
       "      <td>2021-02-09 19:19:10</td>\n",
       "      <td>KA1503000012</td>\n",
       "      <td>TA1305000029</td>\n",
       "      <td>70870</td>\n",
       "    </tr>\n",
       "    <tr>\n",
       "      <th>3</th>\n",
       "      <td>B32D3199F1C2E75B</td>\n",
       "      <td>classic_bike</td>\n",
       "      <td>2021-02-02 17:49:41</td>\n",
       "      <td>2021-02-02 17:54:06</td>\n",
       "      <td>637</td>\n",
       "      <td>TA1305000034</td>\n",
       "      <td>58974</td>\n",
       "    </tr>\n",
       "    <tr>\n",
       "      <th>4</th>\n",
       "      <td>83E463F23575F4BF</td>\n",
       "      <td>electric_bike</td>\n",
       "      <td>2021-02-23 15:07:23</td>\n",
       "      <td>2021-02-23 15:22:37</td>\n",
       "      <td>13216</td>\n",
       "      <td>TA1309000055</td>\n",
       "      <td>39608</td>\n",
       "    </tr>\n",
       "  </tbody>\n",
       "</table>\n",
       "</div>"
      ],
      "text/plain": [
       "            trip_id  rideable_type          started_at            ended_at start_station_id end_station_id  rider_id\n",
       "0  89E7AA6C29227EFF   classic_bike 2021-02-12 16:14:56 2021-02-12 16:21:43              525            660     71934\n",
       "1  0FEFDE2603568365   classic_bike 2021-02-14 17:52:38 2021-02-14 18:12:09              525          16806     47854\n",
       "2  E6159D746B2DBB91  electric_bike 2021-02-09 19:10:18 2021-02-09 19:19:10     KA1503000012   TA1305000029     70870\n",
       "3  B32D3199F1C2E75B   classic_bike 2021-02-02 17:49:41 2021-02-02 17:54:06              637   TA1305000034     58974\n",
       "4  83E463F23575F4BF  electric_bike 2021-02-23 15:07:23 2021-02-23 15:22:37            13216   TA1309000055     39608"
      ]
     },
     "execution_count": 14,
     "metadata": {},
     "output_type": "execute_result"
    }
   ],
   "source": [
    "df_trip.pandas_api().head()"
   ]
  },
  {
   "cell_type": "markdown",
   "metadata": {
    "application/vnd.databricks.v1+cell": {
     "cellMetadata": {
      "byteLimit": 2048000,
      "rowLimit": 10000
     },
     "inputWidgets": {},
     "nuid": "ad6c7e5a-1750-47b0-84b6-a46f92f631a3",
     "showTitle": false,
     "title": ""
    }
   },
   "source": [
    "### Writing Delta Files"
   ]
  },
  {
   "cell_type": "code",
   "execution_count": 0,
   "metadata": {
    "application/vnd.databricks.v1+cell": {
     "cellMetadata": {
      "byteLimit": 2048000,
      "rowLimit": 10000
     },
     "inputWidgets": {},
     "nuid": "d5359421-9653-4c41-a516-aa23edfe6a00",
     "showTitle": false,
     "title": ""
    }
   },
   "outputs": [],
   "source": [
    "dataframes = [\n",
    "    (df_payment, \"payment\"),\n",
    "    (df_rider, \"rider\"),\n",
    "    (df_station, \"station\"),\n",
    "    (df_trip, \"trip\")\n",
    "]\n"
   ]
  },
  {
   "cell_type": "code",
   "execution_count": 0,
   "metadata": {
    "application/vnd.databricks.v1+cell": {
     "cellMetadata": {
      "byteLimit": 2048000,
      "rowLimit": 10000
     },
     "inputWidgets": {},
     "nuid": "b98f216c-5ee4-43e8-b74f-dac0ce75f35e",
     "showTitle": false,
     "title": ""
    }
   },
   "outputs": [],
   "source": [
    "def save_to_delta(df, name):\n",
    "    \"\"\"Save DataFrame in delta format\"\"\"\n",
    "    path = f\"/delta/{name}_bronze\"\n",
    "    df.write.format(\"delta\").mode(\"overwrite\").save(path)"
   ]
  },
  {
   "cell_type": "code",
   "execution_count": 0,
   "metadata": {
    "application/vnd.databricks.v1+cell": {
     "cellMetadata": {
      "byteLimit": 2048000,
      "rowLimit": 10000
     },
     "inputWidgets": {},
     "nuid": "f0cdc64e-e42a-47f6-b882-d1ffe6717a09",
     "showTitle": false,
     "title": ""
    }
   },
   "outputs": [],
   "source": [
    "# Save each df as Delta\n",
    "for df, name in dataframes:\n",
    "    save_to_delta(df, name)"
   ]
  }
 ],
 "metadata": {
  "application/vnd.databricks.v1+notebook": {
   "dashboards": [],
   "language": "python",
   "notebookMetadata": {
    "pythonIndentUnit": 4
   },
   "notebookName": "extract",
   "widgets": {}
  }
 },
 "nbformat": 4,
 "nbformat_minor": 0
}
