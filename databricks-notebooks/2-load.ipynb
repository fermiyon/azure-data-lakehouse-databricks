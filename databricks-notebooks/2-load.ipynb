{
 "cells": [
  {
   "cell_type": "markdown",
   "metadata": {
    "application/vnd.databricks.v1+cell": {
     "cellMetadata": {
      "byteLimit": 2048000,
      "rowLimit": 10000
     },
     "inputWidgets": {},
     "nuid": "99513b0d-1ab5-44b2-9671-a274c9a8071c",
     "showTitle": false,
     "title": ""
    }
   },
   "source": [
    "## Azure Databricks: Load the data using Spark SQL"
   ]
  },
  {
   "cell_type": "markdown",
   "metadata": {
    "application/vnd.databricks.v1+cell": {
     "cellMetadata": {},
     "inputWidgets": {},
     "nuid": "4fe156b8-7cae-4a44-859f-c06edf4b372f",
     "showTitle": false,
     "title": ""
    }
   },
   "source": [
    "By Selman Karaosmanoglu"
   ]
  },
  {
   "cell_type": "code",
   "execution_count": 0,
   "metadata": {
    "application/vnd.databricks.v1+cell": {
     "cellMetadata": {
      "byteLimit": 2048000,
      "rowLimit": 10000
     },
     "inputWidgets": {},
     "nuid": "0b2c7d88-8f07-4b0d-b8a4-c6c75781affa",
     "showTitle": false,
     "title": ""
    }
   },
   "outputs": [],
   "source": [
    "from pyspark.sql import DataFrame"
   ]
  },
  {
   "cell_type": "code",
   "execution_count": 0,
   "metadata": {
    "application/vnd.databricks.v1+cell": {
     "cellMetadata": {
      "byteLimit": 2048000,
      "rowLimit": 10000
     },
     "inputWidgets": {},
     "nuid": "18a622ba-5f70-4144-bd55-de8cb2c432e8",
     "showTitle": false,
     "title": ""
    }
   },
   "outputs": [],
   "source": [
    "dataframe_names = ['payment','rider','station','trip']"
   ]
  },
  {
   "cell_type": "code",
   "execution_count": 0,
   "metadata": {
    "application/vnd.databricks.v1+cell": {
     "cellMetadata": {
      "byteLimit": 2048000,
      "rowLimit": 10000
     },
     "inputWidgets": {},
     "nuid": "9d9c9078-af17-452a-b9ee-e4ed0c17e653",
     "showTitle": false,
     "title": ""
    }
   },
   "outputs": [],
   "source": [
    "# User-defined functions\n",
    "\n",
    "def drop_table(spark_session, table_name):\n",
    "    \"\"\"Drop the table if it exists\"\"\"\n",
    "    try:\n",
    "        spark_session.sql(f\"DROP TABLE IF EXISTS {table_name}\")\n",
    "        print(f\"Table {table_name} dropped successfully.\")\n",
    "    except Exception as e:\n",
    "        print(f\"An error occurred while dropping the table {table_name}: {e}\")\n"
   ]
  },
  {
   "cell_type": "code",
   "execution_count": 0,
   "metadata": {
    "application/vnd.databricks.v1+cell": {
     "cellMetadata": {
      "byteLimit": 2048000,
      "rowLimit": 10000
     },
     "inputWidgets": {},
     "nuid": "28dd3d21-49b4-43a0-a321-28edc5e5eae4",
     "showTitle": false,
     "title": ""
    }
   },
   "outputs": [],
   "source": [
    "def create_table(spark_session, table_name, file_path) -> DataFrame:\n",
    "    \"\"\"Create a Delta table from the specified location if it does not already exist.\"\"\"\n",
    "    try:\n",
    "        create_table_query = f\"\"\"\n",
    "                                CREATE TABLE IF NOT EXISTS {table_name}\n",
    "                                USING DELTA\n",
    "                                LOCATION '{file_path}'\n",
    "                             \"\"\"\n",
    "        spark_session.sql(create_table_query)\n",
    "        print(f\"Table {table_name} created successfully from the location {file_path}.\")\n",
    "        return spark.table(table_name)\n",
    "    except Exception as e:\n",
    "        print(f\"An error occurred while creating the table {table_name}: {e}\")"
   ]
  },
  {
   "cell_type": "code",
   "execution_count": 0,
   "metadata": {
    "application/vnd.databricks.v1+cell": {
     "cellMetadata": {
      "byteLimit": 2048000,
      "rowLimit": 10000
     },
     "inputWidgets": {},
     "nuid": "37d25653-ade3-490d-9d89-677b76b516dc",
     "showTitle": false,
     "title": ""
    }
   },
   "outputs": [],
   "source": [
    "def refresh_bronze_table(name):\n",
    "    \"Drop and Create bronze table\"\n",
    "    bronze_table_name = f\"{name}_bronze\"\n",
    "    path = f\"/delta/{bronze_table_name}\"\n",
    "    drop_table(spark, bronze_table_name)\n",
    "    return create_table(spark, bronze_table_name, path)\n"
   ]
  },
  {
   "cell_type": "code",
   "execution_count": 0,
   "metadata": {
    "application/vnd.databricks.v1+cell": {
     "cellMetadata": {
      "byteLimit": 2048000,
      "rowLimit": 10000
     },
     "inputWidgets": {},
     "nuid": "e30e20a7-d92c-40b4-9981-70d77358b07a",
     "showTitle": false,
     "title": ""
    }
   },
   "outputs": [
    {
     "output_type": "stream",
     "name": "stdout",
     "output_type": "stream",
     "text": [
      "Table payment_bronze dropped successfully.\nTable payment_bronze created successfully from the location /delta/payment_bronze.\nTable rider_bronze dropped successfully.\nTable rider_bronze created successfully from the location /delta/rider_bronze.\nTable station_bronze dropped successfully.\nTable station_bronze created successfully from the location /delta/station_bronze.\nTable trip_bronze dropped successfully.\nTable trip_bronze created successfully from the location /delta/trip_bronze.\n"
     ]
    },
    {
     "output_type": "execute_result",
     "data": {
      "text/plain": [
       "[DataFrame[payment_id: int, date: date, amount: double, rider_id: int],\n",
       " DataFrame[rider_id: int, first_name: string, last_name: string, address: string, birthdate: date, account_start_date: date, account_end_date: date, is_member: boolean],\n",
       " DataFrame[station_id: string, name: string, latitude: double, longitude: double],\n",
       " DataFrame[trip_id: string, rideable_type: string, started_at: timestamp, ended_at: timestamp, start_station_id: string, end_station_id: string, rider_id: int]]"
      ]
     },
     "execution_count": 38,
     "metadata": {},
     "output_type": "execute_result"
    }
   ],
   "source": [
    "# Iterate dataframe names, create tables\n",
    "list(map(refresh_bronze_table, dataframe_names))"
   ]
  }
 ],
 "metadata": {
  "application/vnd.databricks.v1+notebook": {
   "dashboards": [],
   "language": "python",
   "notebookMetadata": {
    "pythonIndentUnit": 4
   },
   "notebookName": "load",
   "widgets": {}
  }
 },
 "nbformat": 4,
 "nbformat_minor": 0
}
